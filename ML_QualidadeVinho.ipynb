{
  "nbformat": 4,
  "nbformat_minor": 0,
  "metadata": {
    "colab": {
      "name": "ML-QualidadeVinho.ipynb",
      "provenance": [],
      "collapsed_sections": [],
      "include_colab_link": true
    },
    "kernelspec": {
      "name": "python3",
      "display_name": "Python 3"
    }
  },
  "cells": [
    {
      "cell_type": "markdown",
      "metadata": {
        "id": "view-in-github",
        "colab_type": "text"
      },
      "source": [
        "<a href=\"https://colab.research.google.com/github/renanalvesdeveloper/Data-Science/blob/master/ML_QualidadeVinho.ipynb\" target=\"_parent\"><img src=\"https://colab.research.google.com/assets/colab-badge.svg\" alt=\"Open In Colab\"/></a>"
      ]
    },
    {
      "cell_type": "markdown",
      "metadata": {
        "id": "kLI0gJtzDGuQ",
        "colab_type": "text"
      },
      "source": [
        "# **Análise e construção de um modelo Machine Learning para determinar a qualidade de um Vinho** \n",
        "\n",
        "<img alt=\"Colaboratory logo\" width=\"100%\" src=\"https://blog.superbid.net/wp-content/uploads/2018/08/brasileiros-vinhos.png\">\n",
        "\n",
        "#### *by [Renan Alves](https://www.linkedin.com/in/renan-alves-9b1b71b7/)*\n",
        "\n",
        "---\n",
        "\n",
        "## Contextualização \n",
        "\n",
        "Esse projeto tem por objetivo construir um modelo Machine Learning para determinar a qualidade de um vinho. A proposta é aplicar as técnicas de aprendizado de máquina para determinar quais propriedades físico-químicas tornam um vinho 'bom'.\n",
        "\n",
        "\n",
        "Os dados analisados encontram-se disponiveis no [UCI machine learning repository](https://archive.ics.uci.edu/ml/datasets/wine+quality).\n",
        "\n",
        "***Neste Notebook, primeiramente iremos realizar a análise dos dados usando matplotlib e seaborn. Após essa primeira etapa, iremos aplicar diferentes modelos de classificações para prever a qualidade do vinho.***"
      ]
    },
    {
      "cell_type": "markdown",
      "metadata": {
        "id": "0zxQHhIUDF_2",
        "colab_type": "text"
      },
      "source": [
        "## Obtenção dos Dados\n"
      ]
    },
    {
      "cell_type": "code",
      "metadata": {
        "id": "Vhp2wMPgJ6zX",
        "colab_type": "code",
        "colab": {
          "base_uri": "https://localhost:8080/",
          "height": 52
        },
        "outputId": "7a2d787b-510e-4c1c-93c6-b3f5938001ff"
      },
      "source": [
        "# importar os pacotes necessarios\n",
        "\n",
        "import pandas as pd #fornecer ferramentas para análise dos dados\n",
        "import seaborn as sns # fornecer a visualização dos dados\n",
        "import matplotlib.pyplot as plt # fornecer a visualização dos dados\n",
        "\n",
        "#fornecer ferramentas para trabalharmos com aprendizado de máquina\n",
        "from sklearn.ensemble import RandomForestClassifier\n",
        "from sklearn.svm import SVC\n",
        "from sklearn.linear_model import SGDClassifier\n",
        "from sklearn.metrics import confusion_matrix, classification_report\n",
        "from sklearn.preprocessing import StandardScaler, LabelEncoder\n",
        "from sklearn.model_selection import train_test_split, GridSearchCV, cross_val_score\n",
        "\n",
        "%matplotlib inline"
      ],
      "execution_count": null,
      "outputs": [
        {
          "output_type": "stream",
          "text": [
            "/usr/local/lib/python3.6/dist-packages/statsmodels/tools/_testing.py:19: FutureWarning: pandas.util.testing is deprecated. Use the functions in the public API at pandas.testing instead.\n",
            "  import pandas.util.testing as tm\n"
          ],
          "name": "stderr"
        }
      ]
    },
    {
      "cell_type": "code",
      "metadata": {
        "id": "tUmoAT8DLQ5T",
        "colab_type": "code",
        "colab": {}
      },
      "source": [
        "# importar o arquivo datasets_4458_8204_winequality-red.csv para um DataFrame\n",
        "df_vinhos = pd.read_csv('https://raw.githubusercontent.com/renanalvesdeveloper/Data-Science/master/DataSets/datasets_4458_8204_winequality-red.csv')"
      ],
      "execution_count": null,
      "outputs": []
    },
    {
      "cell_type": "markdown",
      "metadata": {
        "id": "qb5By2nIMS6m",
        "colab_type": "text"
      },
      "source": [
        "## Análise dos Dados\n",
        "\n",
        "Esta etapa tem por objetivo criar uma consciência situacional inicial e permitir um entendimento de como os dados estão estruturados."
      ]
    },
    {
      "cell_type": "markdown",
      "metadata": {
        "id": "RYgvuebKNg8-",
        "colab_type": "text"
      },
      "source": [
        "**Dicionário das variáveis**\n",
        "\n",
        "* `fixed acidity` \n",
        "* `volatile acidity` \n",
        "* `citric acid` \n",
        "* `residual sugar` \n",
        "* `chlorides`\n",
        "* `free sulfur dioxide`\n",
        "* `total sulfur dioxide`\n",
        "* `pH` \n",
        "* `sulphates` \n",
        "* `alcohol` \n",
        "* `quality`\n",
        "\n",
        "\n",
        "Para facilitar o nosso entendimento antes de iniciarmos as análises, iremos alterar o nome das colunas."
      ]
    },
    {
      "cell_type": "code",
      "metadata": {
        "id": "2iS_dae7YQtO",
        "colab_type": "code",
        "colab": {}
      },
      "source": [
        "#traduzindo/renomeando colunas\n",
        "colunas = {\n",
        "\t\t\t'fixed acidity':'acidez_fixa',      \n",
        "\t\t\t'volatile acidity' : 'acidez_volatil',    \n",
        "\t\t\t'citric acid' : 'acido_citrico',       \n",
        "\t\t\t'residual sugar': 'acucar_residual',     \n",
        "\t\t\t'chlorides' : 'cloretos',           \n",
        "\t\t\t'free sulfur dioxide' : 'dioxido_enxofre_livre',\n",
        "\t\t\t'total sulfur dioxide' : 'dioxido_enxofre_total',\n",
        "\t\t\t'density' : 'densidade',             \n",
        "\t\t\t'pH': 'ph',                  \n",
        "\t\t\t'sulphates' : 'sulfatos',          \n",
        "\t\t\t'alcohol' : 'alcool',             \n",
        "\t\t\t'quality' :'qualidade'\n",
        "}\n",
        "\n",
        "df_vinhos = df_vinhos.rename(colunas, axis=1)"
      ],
      "execution_count": null,
      "outputs": []
    },
    {
      "cell_type": "code",
      "metadata": {
        "id": "P7jEgOpVidH6",
        "colab_type": "code",
        "colab": {
          "base_uri": "https://localhost:8080/",
          "height": 197
        },
        "outputId": "501a358c-33ab-40b3-df23-06329f561abd"
      },
      "source": [
        "# mostrar as 5 primeiras entradas\n",
        "df_vinhos.head()"
      ],
      "execution_count": null,
      "outputs": [
        {
          "output_type": "execute_result",
          "data": {
            "text/html": [
              "<div>\n",
              "<style scoped>\n",
              "    .dataframe tbody tr th:only-of-type {\n",
              "        vertical-align: middle;\n",
              "    }\n",
              "\n",
              "    .dataframe tbody tr th {\n",
              "        vertical-align: top;\n",
              "    }\n",
              "\n",
              "    .dataframe thead th {\n",
              "        text-align: right;\n",
              "    }\n",
              "</style>\n",
              "<table border=\"1\" class=\"dataframe\">\n",
              "  <thead>\n",
              "    <tr style=\"text-align: right;\">\n",
              "      <th></th>\n",
              "      <th>acidez_fixa</th>\n",
              "      <th>acidez_volatil</th>\n",
              "      <th>acido_citrico</th>\n",
              "      <th>acucar_residual</th>\n",
              "      <th>cloretos</th>\n",
              "      <th>dioxido_enxofre_livre</th>\n",
              "      <th>dioxido_enxofre_total</th>\n",
              "      <th>densidade</th>\n",
              "      <th>ph</th>\n",
              "      <th>sulfatos</th>\n",
              "      <th>alcool</th>\n",
              "      <th>qualidade</th>\n",
              "    </tr>\n",
              "  </thead>\n",
              "  <tbody>\n",
              "    <tr>\n",
              "      <th>0</th>\n",
              "      <td>7.4</td>\n",
              "      <td>0.70</td>\n",
              "      <td>0.00</td>\n",
              "      <td>1.9</td>\n",
              "      <td>0.076</td>\n",
              "      <td>11.0</td>\n",
              "      <td>34.0</td>\n",
              "      <td>0.9978</td>\n",
              "      <td>3.51</td>\n",
              "      <td>0.56</td>\n",
              "      <td>9.4</td>\n",
              "      <td>5</td>\n",
              "    </tr>\n",
              "    <tr>\n",
              "      <th>1</th>\n",
              "      <td>7.8</td>\n",
              "      <td>0.88</td>\n",
              "      <td>0.00</td>\n",
              "      <td>2.6</td>\n",
              "      <td>0.098</td>\n",
              "      <td>25.0</td>\n",
              "      <td>67.0</td>\n",
              "      <td>0.9968</td>\n",
              "      <td>3.20</td>\n",
              "      <td>0.68</td>\n",
              "      <td>9.8</td>\n",
              "      <td>5</td>\n",
              "    </tr>\n",
              "    <tr>\n",
              "      <th>2</th>\n",
              "      <td>7.8</td>\n",
              "      <td>0.76</td>\n",
              "      <td>0.04</td>\n",
              "      <td>2.3</td>\n",
              "      <td>0.092</td>\n",
              "      <td>15.0</td>\n",
              "      <td>54.0</td>\n",
              "      <td>0.9970</td>\n",
              "      <td>3.26</td>\n",
              "      <td>0.65</td>\n",
              "      <td>9.8</td>\n",
              "      <td>5</td>\n",
              "    </tr>\n",
              "    <tr>\n",
              "      <th>3</th>\n",
              "      <td>11.2</td>\n",
              "      <td>0.28</td>\n",
              "      <td>0.56</td>\n",
              "      <td>1.9</td>\n",
              "      <td>0.075</td>\n",
              "      <td>17.0</td>\n",
              "      <td>60.0</td>\n",
              "      <td>0.9980</td>\n",
              "      <td>3.16</td>\n",
              "      <td>0.58</td>\n",
              "      <td>9.8</td>\n",
              "      <td>6</td>\n",
              "    </tr>\n",
              "    <tr>\n",
              "      <th>4</th>\n",
              "      <td>7.4</td>\n",
              "      <td>0.70</td>\n",
              "      <td>0.00</td>\n",
              "      <td>1.9</td>\n",
              "      <td>0.076</td>\n",
              "      <td>11.0</td>\n",
              "      <td>34.0</td>\n",
              "      <td>0.9978</td>\n",
              "      <td>3.51</td>\n",
              "      <td>0.56</td>\n",
              "      <td>9.4</td>\n",
              "      <td>5</td>\n",
              "    </tr>\n",
              "  </tbody>\n",
              "</table>\n",
              "</div>"
            ],
            "text/plain": [
              "   acidez_fixa  acidez_volatil  acido_citrico  ...  sulfatos  alcool  qualidade\n",
              "0          7.4            0.70           0.00  ...      0.56     9.4          5\n",
              "1          7.8            0.88           0.00  ...      0.68     9.8          5\n",
              "2          7.8            0.76           0.04  ...      0.65     9.8          5\n",
              "3         11.2            0.28           0.56  ...      0.58     9.8          6\n",
              "4          7.4            0.70           0.00  ...      0.56     9.4          5\n",
              "\n",
              "[5 rows x 12 columns]"
            ]
          },
          "metadata": {
            "tags": []
          },
          "execution_count": 42
        }
      ]
    },
    {
      "cell_type": "markdown",
      "metadata": {
        "id": "6-B_qtEaYEd-",
        "colab_type": "text"
      },
      "source": [
        "### **Q1. Quantos atributos (variáveis) e quantas entradas o nosso conjunto de dados possui? Quais os tipos das variáveis?**"
      ]
    },
    {
      "cell_type": "code",
      "metadata": {
        "id": "TFRK0tniLV-G",
        "colab_type": "code",
        "colab": {
          "base_uri": "https://localhost:8080/",
          "height": 461
        },
        "outputId": "f37ed8b6-7c6f-44bf-e6ed-b935e443b1de"
      },
      "source": [
        "# identificar o volume de dados do DataFrame\n",
        "print(\"Entradas(linhas):\\t{}\".format(df_vinhos.shape[0]))\n",
        "print(\"Variáveis(colunas):\\t{}\".format(df_vinhos.shape[1]))\n",
        "\n",
        "print()\n",
        "\n",
        "#verificar os tipos de cada variavel do dataset\n",
        "df_info = df_vinhos.dtypes\n",
        "df_info = pd.DataFrame(df_info)\n",
        "df_info.columns = ['Tipo']\n",
        "df_info.columns.name = 'Colunas'\n",
        "df_info"
      ],
      "execution_count": null,
      "outputs": [
        {
          "output_type": "stream",
          "text": [
            "Entradas(linhas):\t1599\n",
            "Variáveis(colunas):\t12\n",
            "\n"
          ],
          "name": "stdout"
        },
        {
          "output_type": "execute_result",
          "data": {
            "text/html": [
              "<div>\n",
              "<style scoped>\n",
              "    .dataframe tbody tr th:only-of-type {\n",
              "        vertical-align: middle;\n",
              "    }\n",
              "\n",
              "    .dataframe tbody tr th {\n",
              "        vertical-align: top;\n",
              "    }\n",
              "\n",
              "    .dataframe thead th {\n",
              "        text-align: right;\n",
              "    }\n",
              "</style>\n",
              "<table border=\"1\" class=\"dataframe\">\n",
              "  <thead>\n",
              "    <tr style=\"text-align: right;\">\n",
              "      <th>Colunas</th>\n",
              "      <th>Tipo</th>\n",
              "    </tr>\n",
              "  </thead>\n",
              "  <tbody>\n",
              "    <tr>\n",
              "      <th>acidez_fixa</th>\n",
              "      <td>float64</td>\n",
              "    </tr>\n",
              "    <tr>\n",
              "      <th>acidez_volatil</th>\n",
              "      <td>float64</td>\n",
              "    </tr>\n",
              "    <tr>\n",
              "      <th>acido_citrico</th>\n",
              "      <td>float64</td>\n",
              "    </tr>\n",
              "    <tr>\n",
              "      <th>acucar_residual</th>\n",
              "      <td>float64</td>\n",
              "    </tr>\n",
              "    <tr>\n",
              "      <th>cloretos</th>\n",
              "      <td>float64</td>\n",
              "    </tr>\n",
              "    <tr>\n",
              "      <th>dioxido_enxofre_livre</th>\n",
              "      <td>float64</td>\n",
              "    </tr>\n",
              "    <tr>\n",
              "      <th>dioxido_enxofre_total</th>\n",
              "      <td>float64</td>\n",
              "    </tr>\n",
              "    <tr>\n",
              "      <th>densidade</th>\n",
              "      <td>float64</td>\n",
              "    </tr>\n",
              "    <tr>\n",
              "      <th>ph</th>\n",
              "      <td>float64</td>\n",
              "    </tr>\n",
              "    <tr>\n",
              "      <th>sulfatos</th>\n",
              "      <td>float64</td>\n",
              "    </tr>\n",
              "    <tr>\n",
              "      <th>alcool</th>\n",
              "      <td>float64</td>\n",
              "    </tr>\n",
              "    <tr>\n",
              "      <th>qualidade</th>\n",
              "      <td>int64</td>\n",
              "    </tr>\n",
              "  </tbody>\n",
              "</table>\n",
              "</div>"
            ],
            "text/plain": [
              "Colunas                   Tipo\n",
              "acidez_fixa            float64\n",
              "acidez_volatil         float64\n",
              "acido_citrico          float64\n",
              "acucar_residual        float64\n",
              "cloretos               float64\n",
              "dioxido_enxofre_livre  float64\n",
              "dioxido_enxofre_total  float64\n",
              "densidade              float64\n",
              "ph                     float64\n",
              "sulfatos               float64\n",
              "alcool                 float64\n",
              "qualidade                int64"
            ]
          },
          "metadata": {
            "tags": []
          },
          "execution_count": 43
        }
      ]
    },
    {
      "cell_type": "markdown",
      "metadata": {
        "id": "yz1urSUGW9iE",
        "colab_type": "text"
      },
      "source": [
        "### **Q2. Qual a porcentagem de valores ausentes no *dataset*?**\n",
        "\n",
        "A qualidade de um *dataset* está diretamente relacionada à quantidade de valores ausentes. É importante entender logo no início se esses valores nulos são significativos comparados ao total de entradas.\n",
        "\n",
        "* Verificamos que não existem valores nulo em nossa base."
      ]
    },
    {
      "cell_type": "code",
      "metadata": {
        "id": "plk2FjbCXOqP",
        "colab_type": "code",
        "colab": {
          "base_uri": "https://localhost:8080/",
          "height": 247
        },
        "outputId": "1e154b42-314f-471e-9c0b-15d53c64a309"
      },
      "source": [
        "# ordenar em ordem decrescente as variáveis por seus valores ausentes\n",
        "((df_vinhos.isnull().sum()/df_vinhos.shape[0])*100).sort_values(ascending=False)"
      ],
      "execution_count": null,
      "outputs": [
        {
          "output_type": "execute_result",
          "data": {
            "text/plain": [
              "qualidade                0.0\n",
              "alcool                   0.0\n",
              "sulfatos                 0.0\n",
              "ph                       0.0\n",
              "densidade                0.0\n",
              "dioxido_enxofre_total    0.0\n",
              "dioxido_enxofre_livre    0.0\n",
              "cloretos                 0.0\n",
              "acucar_residual          0.0\n",
              "acido_citrico            0.0\n",
              "acidez_volatil           0.0\n",
              "acidez_fixa              0.0\n",
              "dtype: float64"
            ]
          },
          "metadata": {
            "tags": []
          },
          "execution_count": 6
        }
      ]
    },
    {
      "cell_type": "markdown",
      "metadata": {
        "id": "iHXvvHIxaoNc",
        "colab_type": "text"
      },
      "source": [
        "### **Q3. Qual o tipo de distribuição das variáveis?** "
      ]
    },
    {
      "cell_type": "code",
      "metadata": {
        "id": "q2wWSfeRbmBo",
        "colab_type": "code",
        "colab": {
          "base_uri": "https://localhost:8080/",
          "height": 606
        },
        "outputId": "fbf51fb5-452e-41b0-b690-3782309c547f"
      },
      "source": [
        "# plotar o histograma das variáveis numéricas\n",
        "df_vinhos.hist(bins=16,figsize=(15,10));"
      ],
      "execution_count": null,
      "outputs": [
        {
          "output_type": "display_data",
          "data": {
            "image/png": "[encoded data removed]",
            "text/plain": [
              "<Figure size 1080x720 with 12 Axes>"
            ]
          },
          "metadata": {
            "tags": [],
            "needs_background": "light"
          }
        }
      ]
    },
    {
      "cell_type": "markdown",
      "metadata": {
        "id": "7x4aw1j5wNmn",
        "colab_type": "text"
      },
      "source": [
        "### **Q4. Qual a média de qualidade dos Vinhos?**"
      ]
    },
    {
      "cell_type": "code",
      "metadata": {
        "id": "ff-8gUahLk-C",
        "colab_type": "code",
        "colab": {
          "base_uri": "https://localhost:8080/",
          "height": 34
        },
        "outputId": "e7c267ab-9932-4003-9581-5e1ccba2cad0"
      },
      "source": [
        "# ver a média da coluna `qualidade``\n",
        "f'A Média de Qualidade dos Vinhos: {round(df_vinhos.qualidade.mean(), 2)}'"
      ],
      "execution_count": null,
      "outputs": [
        {
          "output_type": "execute_result",
          "data": {
            "text/plain": [
              "'A Média de Qualidade dos Vinhos: 5.64'"
            ]
          },
          "metadata": {
            "tags": []
          },
          "execution_count": 8
        }
      ]
    },
    {
      "cell_type": "markdown",
      "metadata": {
        "id": "IXn2oIo5qx-w",
        "colab_type": "text"
      },
      "source": [
        "### **Q4. Qual a correlação existente entre as variáveis**"
      ]
    },
    {
      "cell_type": "code",
      "metadata": {
        "id": "x2ayzBajqxyd",
        "colab_type": "code",
        "colab": {
          "base_uri": "https://localhost:8080/",
          "height": 406
        },
        "outputId": "04ef151f-7cdf-4b58-8931-58b230a04309"
      },
      "source": [
        "# criar uma matriz de correlação\n",
        "cor = df_vinhos[['acidez_fixa','acidez_volatil','acido_citrico','acucar_residual','cloretos','dioxido_enxofre_livre', 'dioxido_enxofre_total','densidade','ph','sulfatos','alcool','qualidade']]\n",
        "# mostrar a matriz de correlação\n",
        "display(cor)"
      ],
      "execution_count": null,
      "outputs": [
        {
          "output_type": "display_data",
          "data": {
            "text/html": [
              "<div>\n",
              "<style scoped>\n",
              "    .dataframe tbody tr th:only-of-type {\n",
              "        vertical-align: middle;\n",
              "    }\n",
              "\n",
              "    .dataframe tbody tr th {\n",
              "        vertical-align: top;\n",
              "    }\n",
              "\n",
              "    .dataframe thead th {\n",
              "        text-align: right;\n",
              "    }\n",
              "</style>\n",
              "<table border=\"1\" class=\"dataframe\">\n",
              "  <thead>\n",
              "    <tr style=\"text-align: right;\">\n",
              "      <th></th>\n",
              "      <th>acidez_fixa</th>\n",
              "      <th>acidez_volatil</th>\n",
              "      <th>acido_citrico</th>\n",
              "      <th>acucar_residual</th>\n",
              "      <th>cloretos</th>\n",
              "      <th>dioxido_enxofre_livre</th>\n",
              "      <th>dioxido_enxofre_total</th>\n",
              "      <th>densidade</th>\n",
              "      <th>ph</th>\n",
              "      <th>sulfatos</th>\n",
              "      <th>alcool</th>\n",
              "      <th>qualidade</th>\n",
              "    </tr>\n",
              "  </thead>\n",
              "  <tbody>\n",
              "    <tr>\n",
              "      <th>0</th>\n",
              "      <td>7.4</td>\n",
              "      <td>0.700</td>\n",
              "      <td>0.00</td>\n",
              "      <td>1.9</td>\n",
              "      <td>0.076</td>\n",
              "      <td>11.0</td>\n",
              "      <td>34.0</td>\n",
              "      <td>0.99780</td>\n",
              "      <td>3.51</td>\n",
              "      <td>0.56</td>\n",
              "      <td>9.4</td>\n",
              "      <td>5</td>\n",
              "    </tr>\n",
              "    <tr>\n",
              "      <th>1</th>\n",
              "      <td>7.8</td>\n",
              "      <td>0.880</td>\n",
              "      <td>0.00</td>\n",
              "      <td>2.6</td>\n",
              "      <td>0.098</td>\n",
              "      <td>25.0</td>\n",
              "      <td>67.0</td>\n",
              "      <td>0.99680</td>\n",
              "      <td>3.20</td>\n",
              "      <td>0.68</td>\n",
              "      <td>9.8</td>\n",
              "      <td>5</td>\n",
              "    </tr>\n",
              "    <tr>\n",
              "      <th>2</th>\n",
              "      <td>7.8</td>\n",
              "      <td>0.760</td>\n",
              "      <td>0.04</td>\n",
              "      <td>2.3</td>\n",
              "      <td>0.092</td>\n",
              "      <td>15.0</td>\n",
              "      <td>54.0</td>\n",
              "      <td>0.99700</td>\n",
              "      <td>3.26</td>\n",
              "      <td>0.65</td>\n",
              "      <td>9.8</td>\n",
              "      <td>5</td>\n",
              "    </tr>\n",
              "    <tr>\n",
              "      <th>3</th>\n",
              "      <td>11.2</td>\n",
              "      <td>0.280</td>\n",
              "      <td>0.56</td>\n",
              "      <td>1.9</td>\n",
              "      <td>0.075</td>\n",
              "      <td>17.0</td>\n",
              "      <td>60.0</td>\n",
              "      <td>0.99800</td>\n",
              "      <td>3.16</td>\n",
              "      <td>0.58</td>\n",
              "      <td>9.8</td>\n",
              "      <td>6</td>\n",
              "    </tr>\n",
              "    <tr>\n",
              "      <th>4</th>\n",
              "      <td>7.4</td>\n",
              "      <td>0.700</td>\n",
              "      <td>0.00</td>\n",
              "      <td>1.9</td>\n",
              "      <td>0.076</td>\n",
              "      <td>11.0</td>\n",
              "      <td>34.0</td>\n",
              "      <td>0.99780</td>\n",
              "      <td>3.51</td>\n",
              "      <td>0.56</td>\n",
              "      <td>9.4</td>\n",
              "      <td>5</td>\n",
              "    </tr>\n",
              "    <tr>\n",
              "      <th>...</th>\n",
              "      <td>...</td>\n",
              "      <td>...</td>\n",
              "      <td>...</td>\n",
              "      <td>...</td>\n",
              "      <td>...</td>\n",
              "      <td>...</td>\n",
              "      <td>...</td>\n",
              "      <td>...</td>\n",
              "      <td>...</td>\n",
              "      <td>...</td>\n",
              "      <td>...</td>\n",
              "      <td>...</td>\n",
              "    </tr>\n",
              "    <tr>\n",
              "      <th>1594</th>\n",
              "      <td>6.2</td>\n",
              "      <td>0.600</td>\n",
              "      <td>0.08</td>\n",
              "      <td>2.0</td>\n",
              "      <td>0.090</td>\n",
              "      <td>32.0</td>\n",
              "      <td>44.0</td>\n",
              "      <td>0.99490</td>\n",
              "      <td>3.45</td>\n",
              "      <td>0.58</td>\n",
              "      <td>10.5</td>\n",
              "      <td>5</td>\n",
              "    </tr>\n",
              "    <tr>\n",
              "      <th>1595</th>\n",
              "      <td>5.9</td>\n",
              "      <td>0.550</td>\n",
              "      <td>0.10</td>\n",
              "      <td>2.2</td>\n",
              "      <td>0.062</td>\n",
              "      <td>39.0</td>\n",
              "      <td>51.0</td>\n",
              "      <td>0.99512</td>\n",
              "      <td>3.52</td>\n",
              "      <td>0.76</td>\n",
              "      <td>11.2</td>\n",
              "      <td>6</td>\n",
              "    </tr>\n",
              "    <tr>\n",
              "      <th>1596</th>\n",
              "      <td>6.3</td>\n",
              "      <td>0.510</td>\n",
              "      <td>0.13</td>\n",
              "      <td>2.3</td>\n",
              "      <td>0.076</td>\n",
              "      <td>29.0</td>\n",
              "      <td>40.0</td>\n",
              "      <td>0.99574</td>\n",
              "      <td>3.42</td>\n",
              "      <td>0.75</td>\n",
              "      <td>11.0</td>\n",
              "      <td>6</td>\n",
              "    </tr>\n",
              "    <tr>\n",
              "      <th>1597</th>\n",
              "      <td>5.9</td>\n",
              "      <td>0.645</td>\n",
              "      <td>0.12</td>\n",
              "      <td>2.0</td>\n",
              "      <td>0.075</td>\n",
              "      <td>32.0</td>\n",
              "      <td>44.0</td>\n",
              "      <td>0.99547</td>\n",
              "      <td>3.57</td>\n",
              "      <td>0.71</td>\n",
              "      <td>10.2</td>\n",
              "      <td>5</td>\n",
              "    </tr>\n",
              "    <tr>\n",
              "      <th>1598</th>\n",
              "      <td>6.0</td>\n",
              "      <td>0.310</td>\n",
              "      <td>0.47</td>\n",
              "      <td>3.6</td>\n",
              "      <td>0.067</td>\n",
              "      <td>18.0</td>\n",
              "      <td>42.0</td>\n",
              "      <td>0.99549</td>\n",
              "      <td>3.39</td>\n",
              "      <td>0.66</td>\n",
              "      <td>11.0</td>\n",
              "      <td>6</td>\n",
              "    </tr>\n",
              "  </tbody>\n",
              "</table>\n",
              "<p>1599 rows × 12 columns</p>\n",
              "</div>"
            ],
            "text/plain": [
              "      acidez_fixa  acidez_volatil  acido_citrico  ...  sulfatos  alcool  qualidade\n",
              "0             7.4           0.700           0.00  ...      0.56     9.4          5\n",
              "1             7.8           0.880           0.00  ...      0.68     9.8          5\n",
              "2             7.8           0.760           0.04  ...      0.65     9.8          5\n",
              "3            11.2           0.280           0.56  ...      0.58     9.8          6\n",
              "4             7.4           0.700           0.00  ...      0.56     9.4          5\n",
              "...           ...             ...            ...  ...       ...     ...        ...\n",
              "1594          6.2           0.600           0.08  ...      0.58    10.5          5\n",
              "1595          5.9           0.550           0.10  ...      0.76    11.2          6\n",
              "1596          6.3           0.510           0.13  ...      0.75    11.0          6\n",
              "1597          5.9           0.645           0.12  ...      0.71    10.2          5\n",
              "1598          6.0           0.310           0.47  ...      0.66    11.0          6\n",
              "\n",
              "[1599 rows x 12 columns]"
            ]
          },
          "metadata": {
            "tags": []
          }
        }
      ]
    },
    {
      "cell_type": "code",
      "metadata": {
        "id": "91UujDr6ueqE",
        "colab_type": "code",
        "colab": {
          "base_uri": "https://localhost:8080/",
          "height": 474
        },
        "outputId": "873778df-df60-4a22-8891-a621858f2ec3"
      },
      "source": [
        "# plotar um heatmap a partir das correlações\n",
        "correlation = df_vinhos.corr()\n",
        "# display(correlation)\n",
        "plt.figure(figsize=(10, 6))\n",
        "heatmap = sns.heatmap(correlation, annot=True, linewidths=0, vmin=-1, cmap=\"RdBu_r\")"
      ],
      "execution_count": null,
      "outputs": [
        {
          "output_type": "display_data",
          "data": {
            "image/png": "[encoded data removed]",
            "text/plain": [
              "<Figure size 720x432 with 2 Axes>"
            ]
          },
          "metadata": {
            "tags": [],
            "needs_background": "light"
          }
        }
      ]
    },
    {
      "cell_type": "markdown",
      "metadata": {
        "id": "Q0fjrdyT5SgW",
        "colab_type": "text"
      },
      "source": [
        "***Podemos observar que existe um correlação positiva entre as variáveis*** `alcool` ***e*** `qualidade` ***que é a nossa coluna chave.***\n"
      ]
    },
    {
      "cell_type": "markdown",
      "metadata": {
        "id": "MFa5NbnLJMcd",
        "colab_type": "text"
      },
      "source": [
        "### **Q5. Nesta etapa iremos plotar alguns gráficos detalhando as relações de cada uma dessas colunas com a nossa coluna principal `qualidade`.**\n",
        "\n"
      ]
    },
    {
      "cell_type": "markdown",
      "metadata": {
        "id": "ZW01eZzW7gTj",
        "colab_type": "text"
      },
      "source": [
        "\n",
        "**Qualidade VS Acidez Fixa**\n",
        "\n",
        "> *Aqui vemos que a acidez fixa não fornece nenhuma especificação para classificar a qualidade.*"
      ]
    },
    {
      "cell_type": "code",
      "metadata": {
        "id": "MD_xa143JZpi",
        "colab_type": "code",
        "colab": {
          "base_uri": "https://localhost:8080/",
          "height": 387
        },
        "outputId": "bbe854c5-dfa0-449b-a7f9-c2a281f3a022"
      },
      "source": [
        "fig = plt.figure(figsize=(10,6))\n",
        "sns.barplot(x='qualidade',y='acidez_fixa',data=df_vinhos);"
      ],
      "execution_count": null,
      "outputs": [
        {
          "output_type": "display_data",
          "data": {
            "image/png": "[encoded data removed]",
            "text/plain": [
              "<Figure size 720x432 with 1 Axes>"
            ]
          },
          "metadata": {
            "tags": [],
            "needs_background": "light"
          }
        }
      ]
    },
    {
      "cell_type": "markdown",
      "metadata": {
        "id": "P-kxwqbg8i0-",
        "colab_type": "text"
      },
      "source": [
        "**Qualidade VS Acidez Volátil**\n",
        "\n",
        "> *Aqui vemos que há um realção com a baixa acidez volátil e a melhora na qualidade do vinho.*"
      ]
    },
    {
      "cell_type": "code",
      "metadata": {
        "id": "CbHNuqS590u8",
        "colab_type": "code",
        "colab": {
          "base_uri": "https://localhost:8080/",
          "height": 387
        },
        "outputId": "82b616a7-539e-4658-f90d-a5759605e2e9"
      },
      "source": [
        "fig = plt.figure(figsize=(10,6))\n",
        "sns.barplot(x='qualidade',y='acidez_volatil', data=df_vinhos);"
      ],
      "execution_count": null,
      "outputs": [
        {
          "output_type": "display_data",
          "data": {
            "image/png": "[encoded data removed]",
            "text/plain": [
              "<Figure size 720x432 with 1 Axes>"
            ]
          },
          "metadata": {
            "tags": [],
            "needs_background": "light"
          }
        }
      ]
    },
    {
      "cell_type": "markdown",
      "metadata": {
        "id": "5Jx7H_7i-nqh",
        "colab_type": "text"
      },
      "source": [
        "**Qualidade VS Ácido Cítrico**\n",
        "\n",
        "> *Aqui vemos que quanto maior o ácido cítrico, melhor a qualidade do Vinho.*"
      ]
    },
    {
      "cell_type": "code",
      "metadata": {
        "id": "e9rDuXkn_Th4",
        "colab_type": "code",
        "colab": {
          "base_uri": "https://localhost:8080/",
          "height": 387
        },
        "outputId": "50268400-230e-44ff-934c-d395a2b5f6c8"
      },
      "source": [
        "fig = plt.figure(figsize=(10,6))\n",
        "sns.barplot(x='qualidade',y='acido_citrico', data=df_vinhos);"
      ],
      "execution_count": null,
      "outputs": [
        {
          "output_type": "display_data",
          "data": {
            "image/png": "[encoded data removed]",
            "text/plain": [
              "<Figure size 720x432 with 1 Axes>"
            ]
          },
          "metadata": {
            "tags": [],
            "needs_background": "light"
          }
        }
      ]
    },
    {
      "cell_type": "markdown",
      "metadata": {
        "id": "FlrbMGu1BCG2",
        "colab_type": "text"
      },
      "source": [
        "**Qualidade VS Açucar Residual**\n",
        "\n",
        " > *Aqui vemos que a açucar residual não fornece nenhuma especificação para classificar a qualidade.*"
      ]
    },
    {
      "cell_type": "code",
      "metadata": {
        "id": "NMN5zz5ABYxh",
        "colab_type": "code",
        "colab": {
          "base_uri": "https://localhost:8080/",
          "height": 387
        },
        "outputId": "1fe2f9ef-ca56-45af-8fd2-57c83978fb59"
      },
      "source": [
        "fig = plt.figure(figsize=(10,6))\n",
        "sns.barplot(x='qualidade', y='acucar_residual', data = df_vinhos);"
      ],
      "execution_count": null,
      "outputs": [
        {
          "output_type": "display_data",
          "data": {
            "image/png": "[encoded data removed]",
            "text/plain": [
              "<Figure size 720x432 with 1 Axes>"
            ]
          },
          "metadata": {
            "tags": [],
            "needs_background": "light"
          }
        }
      ]
    },
    {
      "cell_type": "markdown",
      "metadata": {
        "id": "tbB23H9UB0R3",
        "colab_type": "text"
      },
      "source": [
        "**Qualidade VS Cloretos**\n",
        "\n",
        " > *Vemos que quanto menor a composição de cloreto, melhor é a qualidade do vinho.*"
      ]
    },
    {
      "cell_type": "code",
      "metadata": {
        "id": "XBgRaMKFB08s",
        "colab_type": "code",
        "colab": {
          "base_uri": "https://localhost:8080/",
          "height": 387
        },
        "outputId": "0d59b517-eeef-4b05-ffd0-1a0fb13b2af1"
      },
      "source": [
        "fig = plt.figure(figsize=(10,6))\n",
        "sns.barplot(x='qualidade', y='cloretos', data = df_vinhos);"
      ],
      "execution_count": null,
      "outputs": [
        {
          "output_type": "display_data",
          "data": {
            "image/png": "[encoded data removed]",
            "text/plain": [
              "<Figure size 720x432 with 1 Axes>"
            ]
          },
          "metadata": {
            "tags": [],
            "needs_background": "light"
          }
        }
      ]
    },
    {
      "cell_type": "markdown",
      "metadata": {
        "id": "fyU6ffddCYDI",
        "colab_type": "text"
      },
      "source": [
        "**Qualidade VS Dióxido de Enxofre Livre**\n",
        "\n",
        " > *Aqui vemos que a Dióxido de Enxofre Livre não fornece nenhuma especificação para classificar a qualidade.*"
      ]
    },
    {
      "cell_type": "code",
      "metadata": {
        "id": "74zchnIPCYUM",
        "colab_type": "code",
        "colab": {
          "base_uri": "https://localhost:8080/",
          "height": 387
        },
        "outputId": "0f69b0bc-b6f8-432f-8238-09651ce54ac5"
      },
      "source": [
        "fig = plt.figure(figsize = (10,6))\n",
        "sns.barplot(x = 'qualidade', y = 'dioxido_enxofre_livre', data = df_vinhos);"
      ],
      "execution_count": null,
      "outputs": [
        {
          "output_type": "display_data",
          "data": {
            "image/png": "[encoded data removed]",
            "text/plain": [
              "<Figure size 720x432 with 1 Axes>"
            ]
          },
          "metadata": {
            "tags": [],
            "needs_background": "light"
          }
        }
      ]
    },
    {
      "cell_type": "markdown",
      "metadata": {
        "id": "ufdG1sDMHxeE",
        "colab_type": "text"
      },
      "source": [
        "**Qualidade VS Dióxido de Enxofre Totais**\n",
        "\n",
        " > *Aqui vemos que a Dióxido de Enxofre Totais não fornece nenhuma especificação para classificar a qualidade.*"
      ]
    },
    {
      "cell_type": "code",
      "metadata": {
        "id": "YGgExlqgHxwE",
        "colab_type": "code",
        "colab": {
          "base_uri": "https://localhost:8080/",
          "height": 387
        },
        "outputId": "d3b467ba-b220-4586-93f0-913cd315a53b"
      },
      "source": [
        "fig = plt.figure(figsize = (10,6))\n",
        "sns.barplot(x = 'qualidade', y = 'dioxido_enxofre_total', data = df_vinhos);"
      ],
      "execution_count": null,
      "outputs": [
        {
          "output_type": "display_data",
          "data": {
            "image/png": "[encoded data removed]",
            "text/plain": [
              "<Figure size 720x432 with 1 Axes>"
            ]
          },
          "metadata": {
            "tags": [],
            "needs_background": "light"
          }
        }
      ]
    },
    {
      "cell_type": "markdown",
      "metadata": {
        "id": "TtFkV91wIjpK",
        "colab_type": "text"
      },
      "source": [
        "**Qualidade VS Sulfatos**\n",
        "\n",
        " > *Aqui vemos que quanto maior a composição de sulfato melhor a qualidade do vinho.*"
      ]
    },
    {
      "cell_type": "code",
      "metadata": {
        "id": "CHO5FsVyIj2U",
        "colab_type": "code",
        "colab": {
          "base_uri": "https://localhost:8080/",
          "height": 387
        },
        "outputId": "56007b41-586d-4186-9fe9-d20cae04d4b2"
      },
      "source": [
        "fig = plt.figure(figsize=(10,6))\n",
        "sns.barplot(x='qualidade', y='sulfatos', data=df_vinhos);"
      ],
      "execution_count": null,
      "outputs": [
        {
          "output_type": "display_data",
          "data": {
            "image/png": "[encoded data removed]",
            "text/plain": [
              "<Figure size 720x432 with 1 Axes>"
            ]
          },
          "metadata": {
            "tags": [],
            "needs_background": "light"
          }
        }
      ]
    },
    {
      "cell_type": "markdown",
      "metadata": {
        "id": "dy3ilD5hJUkN",
        "colab_type": "text"
      },
      "source": [
        "**Qualidade VS Ph**\n",
        "\n",
        " > *Aqui vemos que o Ph não fornece nenhuma especificação para classificar a qualidade.*"
      ]
    },
    {
      "cell_type": "code",
      "metadata": {
        "id": "7mkp9P8lJUvj",
        "colab_type": "code",
        "colab": {
          "base_uri": "https://localhost:8080/",
          "height": 387
        },
        "outputId": "d0538487-12ac-48d2-8482-f037305d6a10"
      },
      "source": [
        "fig = plt.figure(figsize=(10,6))\n",
        "sns.barplot(x='qualidade', y='ph', data=df_vinhos);"
      ],
      "execution_count": null,
      "outputs": [
        {
          "output_type": "display_data",
          "data": {
            "image/png": "[encoded data removed]",
            "text/plain": [
              "<Figure size 720x432 with 1 Axes>"
            ]
          },
          "metadata": {
            "tags": [],
            "needs_background": "light"
          }
        }
      ]
    },
    {
      "cell_type": "markdown",
      "metadata": {
        "id": "iDXlhyk2Jjot",
        "colab_type": "text"
      },
      "source": [
        "**Qualidade VS Álcool**\n",
        "\n",
        " > *Aqui vemos que quanto maior a composição de álcool melhor a qualidade do vinho.*"
      ]
    },
    {
      "cell_type": "code",
      "metadata": {
        "id": "cOqxrWNrJj1S",
        "colab_type": "code",
        "colab": {
          "base_uri": "https://localhost:8080/",
          "height": 387
        },
        "outputId": "5e904e03-6e01-4725-dddc-63c88a643eee"
      },
      "source": [
        "fig = plt.figure(figsize=(10,6))\n",
        "sns.barplot(x='qualidade', y='alcool', data=df_vinhos);"
      ],
      "execution_count": null,
      "outputs": [
        {
          "output_type": "display_data",
          "data": {
            "image/png": "[encoded data removed]",
            "text/plain": [
              "<Figure size 720x432 with 1 Axes>"
            ]
          },
          "metadata": {
            "tags": [],
            "needs_background": "light"
          }
        }
      ]
    },
    {
      "cell_type": "markdown",
      "metadata": {
        "id": "4y11KSBTK_rd",
        "colab_type": "text"
      },
      "source": [
        "### **Q6. Nesta etapa iremos preparar a base para executarmos os algoritmos de aprendizado de máquina.**\n"
      ]
    },
    {
      "cell_type": "code",
      "metadata": {
        "id": "filyums2OvVS",
        "colab_type": "code",
        "colab": {}
      },
      "source": [
        "#Construiremos uma classificação binária para a variável de resposta.\n",
        "#Iremos dividir o vinho como bom [good] e ruim[bad], dando um limite para a qualidade\n",
        "bins = (2, 6.5, 8)\n",
        "grupos = ['bad','good']\n",
        "df_vinhos.qualidade = pd.cut(df_vinhos.qualidade, bins = bins, labels=grupos)\n",
        "\n",
        "\n",
        "\n"
      ],
      "execution_count": null,
      "outputs": []
    },
    {
      "cell_type": "code",
      "metadata": {
        "id": "Gq25m4oxPtN2",
        "colab_type": "code",
        "colab": {
          "base_uri": "https://localhost:8080/",
          "height": 70
        },
        "outputId": "0b47b501-5156-4097-e651-725dd49df0fc"
      },
      "source": [
        "df_vinhos.qualidade.value_counts()"
      ],
      "execution_count": null,
      "outputs": [
        {
          "output_type": "execute_result",
          "data": {
            "text/plain": [
              "bad     1382\n",
              "good     217\n",
              "Name: qualidade, dtype: int64"
            ]
          },
          "metadata": {
            "tags": []
          },
          "execution_count": 45
        }
      ]
    },
    {
      "cell_type": "code",
      "metadata": {
        "id": "duyQbq6bQ0AD",
        "colab_type": "code",
        "colab": {}
      },
      "source": [
        "#vamos criar uma variavel e usar o labelEncoder para normalizar nossa coluna qualidade\n",
        "val_qualidade = LabelEncoder()"
      ],
      "execution_count": null,
      "outputs": []
    },
    {
      "cell_type": "code",
      "metadata": {
        "id": "NbIzazQDRfeB",
        "colab_type": "code",
        "colab": {}
      },
      "source": [
        "#chamando a função fit_transform e aplicando os valores 0 e 1 a coluna qualidade\n",
        "df_vinhos['qualidade'] = val_qualidade.fit_transform(df_vinhos['qualidade'])"
      ],
      "execution_count": null,
      "outputs": []
    },
    {
      "cell_type": "code",
      "metadata": {
        "id": "sZMGkiIoSCXr",
        "colab_type": "code",
        "colab": {
          "base_uri": "https://localhost:8080/",
          "height": 70
        },
        "outputId": "bd6cc777-d96e-4add-f9d0-a3d73b987107"
      },
      "source": [
        "df_vinhos.qualidade.value_counts()"
      ],
      "execution_count": null,
      "outputs": [
        {
          "output_type": "execute_result",
          "data": {
            "text/plain": [
              "0    1382\n",
              "1     217\n",
              "Name: qualidade, dtype: int64"
            ]
          },
          "metadata": {
            "tags": []
          },
          "execution_count": 48
        }
      ]
    },
    {
      "cell_type": "code",
      "metadata": {
        "id": "Zxtm4BmaTTA3",
        "colab_type": "code",
        "colab": {
          "base_uri": "https://localhost:8080/",
          "height": 296
        },
        "outputId": "245a8e65-521e-4902-fc03-a6cb4a410eed"
      },
      "source": [
        "#plotanto a distribuição na coluna qualidade\n",
        "sns.countplot(df_vinhos.qualidade)"
      ],
      "execution_count": null,
      "outputs": [
        {
          "output_type": "execute_result",
          "data": {
            "text/plain": [
              "<matplotlib.axes._subplots.AxesSubplot at 0x7fbe9924f1d0>"
            ]
          },
          "metadata": {
            "tags": []
          },
          "execution_count": 49
        },
        {
          "output_type": "display_data",
          "data": {
            "image/png": "[encoded data removed]",
            "text/plain": [
              "<Figure size 432x288 with 1 Axes>"
            ]
          },
          "metadata": {
            "tags": [],
            "needs_background": "light"
          }
        }
      ]
    },
    {
      "cell_type": "markdown",
      "metadata": {
        "id": "2Rg7ya_KTnXq",
        "colab_type": "text"
      },
      "source": [
        "> ***Podemos notar que de acordo com a nossa classificação existem mais vinho classificados como ruim [0] do que bom [1].***\n"
      ]
    },
    {
      "cell_type": "code",
      "metadata": {
        "id": "4F65ZxRCaMAH",
        "colab_type": "code",
        "colab": {}
      },
      "source": [
        "#Vamos separar o conjunto de dados\n",
        "X = df_vinhos.drop('qualidade',axis=1) #aqui temos todos os dados menos a coluna de qualidade\n",
        "y = df_vinhos.qualidade #aqui temos somente a coluna de qualidade"
      ],
      "execution_count": null,
      "outputs": []
    },
    {
      "cell_type": "code",
      "metadata": {
        "id": "pCAlN0Cibynz",
        "colab_type": "code",
        "colab": {}
      },
      "source": [
        "#Vamos treinar e testar a divisão de dados\n",
        "X_treino, X_teste, y_treino, y_teste = train_test_split(X, y, test_size=0.2, random_state =42)\n"
      ],
      "execution_count": null,
      "outputs": []
    },
    {
      "cell_type": "code",
      "metadata": {
        "id": "LoTmr94ldJPz",
        "colab_type": "code",
        "colab": {}
      },
      "source": [
        "#Aplicando a escala padrão para obter resultados otimizados\n",
        "sc = StandardScaler()"
      ],
      "execution_count": null,
      "outputs": []
    },
    {
      "cell_type": "code",
      "metadata": {
        "id": "b_agiJUTdkPx",
        "colab_type": "code",
        "colab": {}
      },
      "source": [
        "X_treino = sc.fit_transform(X_treino)\n",
        "X_teste = sc.fit_transform(X_teste)"
      ],
      "execution_count": null,
      "outputs": []
    },
    {
      "cell_type": "markdown",
      "metadata": {
        "id": "xixIwaR7guB_",
        "colab_type": "text"
      },
      "source": [
        "### **Q7. Nesta etapa iremos aplicar os modelos de aprendizado de máquina.**\n"
      ]
    },
    {
      "cell_type": "markdown",
      "metadata": {
        "id": "jfMYAHChhZ9J",
        "colab_type": "text"
      },
      "source": [
        "> **Random Forest Classifier**"
      ]
    },
    {
      "cell_type": "code",
      "metadata": {
        "id": "Ndve_0a8hRge",
        "colab_type": "code",
        "colab": {}
      },
      "source": [
        "rfc = RandomForestClassifier(n_estimators=200)\n",
        "rfc.fit(X_treino, y_treino)\n",
        "pred_rfc = rfc.predict(X_teste)"
      ],
      "execution_count": null,
      "outputs": []
    },
    {
      "cell_type": "code",
      "metadata": {
        "id": "cSR6hFAgiBar",
        "colab_type": "code",
        "colab": {
          "base_uri": "https://localhost:8080/",
          "height": 176
        },
        "outputId": "a343f1aa-af16-419c-efe7-55a4d3ef6275"
      },
      "source": [
        "#verificando o desepenho do modelo\n",
        "print(classification_report(y_teste, pred_rfc))"
      ],
      "execution_count": null,
      "outputs": [
        {
          "output_type": "stream",
          "text": [
            "              precision    recall  f1-score   support\n",
            "\n",
            "           0       0.90      0.96      0.93       273\n",
            "           1       0.60      0.38      0.47        47\n",
            "\n",
            "    accuracy                           0.87       320\n",
            "   macro avg       0.75      0.67      0.70       320\n",
            "weighted avg       0.86      0.87      0.86       320\n",
            "\n"
          ],
          "name": "stdout"
        }
      ]
    },
    {
      "cell_type": "markdown",
      "metadata": {
        "id": "KzBNWkPKiwnJ",
        "colab_type": "text"
      },
      "source": [
        "> ***Random forest nos oferece uma precisão de 86%***\n"
      ]
    },
    {
      "cell_type": "code",
      "metadata": {
        "id": "KnkGa3MooTrL",
        "colab_type": "code",
        "colab": {
          "base_uri": "https://localhost:8080/",
          "height": 52
        },
        "outputId": "4ae12ea0-fab3-4e9c-e5f0-0032826aa47e"
      },
      "source": [
        "print(confusion_matrix(y_teste, pred_rfc))"
      ],
      "execution_count": null,
      "outputs": [
        {
          "output_type": "stream",
          "text": [
            "[[261  12]\n",
            " [ 29  18]]\n"
          ],
          "name": "stdout"
        }
      ]
    },
    {
      "cell_type": "markdown",
      "metadata": {
        "id": "d56c8NC0tHlE",
        "colab_type": "text"
      },
      "source": [
        "<img alt=\"Colaboratory logo\" width=\"50%\" src=\"https://i.ibb.co/RP0HR3Z/matriz-confusao.png\">"
      ]
    },
    {
      "cell_type": "markdown",
      "metadata": {
        "id": "rFwx2Nkaujmm",
        "colab_type": "text"
      },
      "source": [
        "> **Stochastic Gradient Decent Classifier**"
      ]
    },
    {
      "cell_type": "code",
      "metadata": {
        "id": "9VdInJ2vux6r",
        "colab_type": "code",
        "colab": {}
      },
      "source": [
        "sgd = SGDClassifier(penalty=None)\n",
        "sgd.fit(X_treino,y_treino)\n",
        "pred_sgd = sgd.predict(X_teste)"
      ],
      "execution_count": null,
      "outputs": []
    },
    {
      "cell_type": "code",
      "metadata": {
        "id": "mdnzL-QWvRVv",
        "colab_type": "code",
        "colab": {
          "base_uri": "https://localhost:8080/",
          "height": 176
        },
        "outputId": "845c231c-c89f-415b-ad6e-70d01a2dc8ca"
      },
      "source": [
        "print(classification_report(y_teste, pred_sgd))"
      ],
      "execution_count": null,
      "outputs": [
        {
          "output_type": "stream",
          "text": [
            "              precision    recall  f1-score   support\n",
            "\n",
            "           0       0.89      0.96      0.92       273\n",
            "           1       0.57      0.28      0.37        47\n",
            "\n",
            "    accuracy                           0.86       320\n",
            "   macro avg       0.73      0.62      0.65       320\n",
            "weighted avg       0.84      0.86      0.84       320\n",
            "\n"
          ],
          "name": "stdout"
        }
      ]
    },
    {
      "cell_type": "markdown",
      "metadata": {
        "id": "kUVJNdBnx5wg",
        "colab_type": "text"
      },
      "source": [
        "> ***Stochastic Gradient Decent Classifier nos oferece uma precisão de 73%***"
      ]
    },
    {
      "cell_type": "code",
      "metadata": {
        "id": "hIZCeGovz-6U",
        "colab_type": "code",
        "colab": {
          "base_uri": "https://localhost:8080/",
          "height": 52
        },
        "outputId": "2eb389a6-477d-42fd-e831-1d3e541e061d"
      },
      "source": [
        "print(confusion_matrix(y_teste, pred_sgd))"
      ],
      "execution_count": null,
      "outputs": [
        {
          "output_type": "stream",
          "text": [
            "[[263  10]\n",
            " [ 34  13]]\n"
          ],
          "name": "stdout"
        }
      ]
    },
    {
      "cell_type": "markdown",
      "metadata": {
        "id": "v2md9ayE0dHe",
        "colab_type": "text"
      },
      "source": [
        "> **Support Vector Classifier**\n"
      ]
    },
    {
      "cell_type": "code",
      "metadata": {
        "id": "B8g_xgZk0qqc",
        "colab_type": "code",
        "colab": {}
      },
      "source": [
        "svc = SVC()\n",
        "svc.fit(X_treino, y_treino)\n",
        "pred_svc = svc.predict(X_teste)"
      ],
      "execution_count": null,
      "outputs": []
    },
    {
      "cell_type": "code",
      "metadata": {
        "id": "j8WlKZKP1AhQ",
        "colab_type": "code",
        "colab": {
          "base_uri": "https://localhost:8080/",
          "height": 176
        },
        "outputId": "cbfaee5b-db44-4975-d6ab-46d02bd454a5"
      },
      "source": [
        "print(classification_report(y_teste, pred_svc))"
      ],
      "execution_count": null,
      "outputs": [
        {
          "output_type": "stream",
          "text": [
            "              precision    recall  f1-score   support\n",
            "\n",
            "           0       0.88      0.98      0.93       273\n",
            "           1       0.71      0.26      0.37        47\n",
            "\n",
            "    accuracy                           0.88       320\n",
            "   macro avg       0.80      0.62      0.65       320\n",
            "weighted avg       0.86      0.88      0.85       320\n",
            "\n"
          ],
          "name": "stdout"
        }
      ]
    },
    {
      "cell_type": "markdown",
      "metadata": {
        "id": "INLbsd0M1OSM",
        "colab_type": "text"
      },
      "source": [
        "> ***Support Vector Classifier nos oferece uma precisão de 86%***"
      ]
    },
    {
      "cell_type": "markdown",
      "metadata": {
        "id": "BkNmLTUY6rPD",
        "colab_type": "text"
      },
      "source": [
        "**Vamos tentar aumentar a precisão dos nossos modelos**"
      ]
    },
    {
      "cell_type": "markdown",
      "metadata": {
        "id": "uety-hvH7bdX",
        "colab_type": "text"
      },
      "source": [
        "> **Grid Search CV**\n"
      ]
    },
    {
      "cell_type": "code",
      "metadata": {
        "id": "yiBCdd9w7Ne4",
        "colab_type": "code",
        "colab": {}
      },
      "source": [
        "#Buscar os melhores parâmetros para o nosso modelo SVC\n",
        "param = {\n",
        "    'C': [0.1,0.8,0.9,1,1.1,1.2,1.3,1.4],\n",
        "    'kernel':['linear', 'rbf'],\n",
        "    'gamma' :[0.1,0.8,0.9,1,1.1,1.2,1.3,1.4]\n",
        "}\n",
        "\n",
        "grid_svc = GridSearchCV(svc, param_grid=param, scoring='accuracy', cv=10)"
      ],
      "execution_count": null,
      "outputs": []
    },
    {
      "cell_type": "code",
      "metadata": {
        "id": "hVF8g0KQ8CJ9",
        "colab_type": "code",
        "colab": {
          "base_uri": "https://localhost:8080/",
          "height": 247
        },
        "outputId": "f8826118-090d-49dc-970f-db0e0ed6c41d"
      },
      "source": [
        "grid_svc.fit(X_treino, y_treino)"
      ],
      "execution_count": null,
      "outputs": [
        {
          "output_type": "execute_result",
          "data": {
            "text/plain": [
              "GridSearchCV(cv=10, error_score=nan,\n",
              "             estimator=SVC(C=1.0, break_ties=False, cache_size=200,\n",
              "                           class_weight=None, coef0=0.0,\n",
              "                           decision_function_shape='ovr', degree=3,\n",
              "                           gamma='scale', kernel='rbf', max_iter=-1,\n",
              "                           probability=False, random_state=None, shrinking=True,\n",
              "                           tol=0.001, verbose=False),\n",
              "             iid='deprecated', n_jobs=None,\n",
              "             param_grid={'C': [0.1, 0.8, 0.9, 1, 1.1, 1.2, 1.3, 1.4],\n",
              "                         'gamma': [0.1, 0.8, 0.9, 1, 1.1, 1.2, 1.3, 1.4],\n",
              "                         'kernel': ['linear', 'rbf']},\n",
              "             pre_dispatch='2*n_jobs', refit=True, return_train_score=False,\n",
              "             scoring='accuracy', verbose=0)"
            ]
          },
          "metadata": {
            "tags": []
          },
          "execution_count": 63
        }
      ]
    },
    {
      "cell_type": "code",
      "metadata": {
        "id": "doT8o-Xt8n7f",
        "colab_type": "code",
        "colab": {
          "base_uri": "https://localhost:8080/",
          "height": 34
        },
        "outputId": "31920a4b-e43f-4d5a-b229-94e5e6967c68"
      },
      "source": [
        "#melhores parametros para o modelo SVC\n",
        "grid_svc.best_params_"
      ],
      "execution_count": null,
      "outputs": [
        {
          "output_type": "execute_result",
          "data": {
            "text/plain": [
              "{'C': 1.2, 'gamma': 0.9, 'kernel': 'rbf'}"
            ]
          },
          "metadata": {
            "tags": []
          },
          "execution_count": 64
        }
      ]
    },
    {
      "cell_type": "code",
      "metadata": {
        "id": "cgKYJZPD9Hbc",
        "colab_type": "code",
        "colab": {
          "base_uri": "https://localhost:8080/",
          "height": 176
        },
        "outputId": "bf5a6dc4-c1a7-4deb-ef24-901d62125235"
      },
      "source": [
        "#Vamos rodar novamente o modelo SVC com os melhores parametros\n",
        "svc2 = SVC(C = 1.2, gamma =  0.9, kernel= 'rbf')\n",
        "svc2.fit(X_treino, y_treino)\n",
        "pred_svc2 = svc2.predict(X_teste)\n",
        "print(classification_report(y_teste, pred_svc2))"
      ],
      "execution_count": null,
      "outputs": [
        {
          "output_type": "stream",
          "text": [
            "              precision    recall  f1-score   support\n",
            "\n",
            "           0       0.90      0.99      0.94       273\n",
            "           1       0.89      0.34      0.49        47\n",
            "\n",
            "    accuracy                           0.90       320\n",
            "   macro avg       0.89      0.67      0.72       320\n",
            "weighted avg       0.90      0.90      0.88       320\n",
            "\n"
          ],
          "name": "stdout"
        }
      ]
    },
    {
      "cell_type": "markdown",
      "metadata": {
        "id": "mfD0oA9Z9pHY",
        "colab_type": "text"
      },
      "source": [
        "> ***SVC melhorou de 86% para 90% usando o Grid Search CV***"
      ]
    },
    {
      "cell_type": "markdown",
      "metadata": {
        "id": "KCVQyoY2-QMa",
        "colab_type": "text"
      },
      "source": [
        "> **Cross Validation Score para o Random Forest**"
      ]
    },
    {
      "cell_type": "code",
      "metadata": {
        "id": "EA1-0DU2_HV6",
        "colab_type": "code",
        "colab": {
          "base_uri": "https://localhost:8080/",
          "height": 34
        },
        "outputId": "c81eb4f2-8fe1-4e04-ee0d-16639aabc253"
      },
      "source": [
        "#vamos determinar um universo de 10 combinações para o nosso teste (cv)\n",
        "rfc_eval = cross_val_score(estimator = rfc, X = X_treino, y = y_treino, cv = 10)\n",
        "rfc_eval.mean()*100"
      ],
      "execution_count": null,
      "outputs": [
        {
          "output_type": "execute_result",
          "data": {
            "text/plain": [
              "91.40194389763779"
            ]
          },
          "metadata": {
            "tags": []
          },
          "execution_count": 66
        }
      ]
    },
    {
      "cell_type": "markdown",
      "metadata": {
        "id": "KSvCQLxo_ict",
        "colab_type": "text"
      },
      "source": [
        "> ***O Random Forest melhorou de 86% para 91% usando o Cross Validation***"
      ]
    },
    {
      "cell_type": "markdown",
      "metadata": {
        "id": "GkvAg623RjoR",
        "colab_type": "text"
      },
      "source": [
        "## Conclusões\n"
      ]
    },
    {
      "cell_type": "markdown",
      "metadata": {
        "id": "KJxYi8mp-PVO",
        "colab_type": "text"
      },
      "source": [
        "> Implementando as funções **GridSearchCV** e **cross_val_score**, podemos concluir após essas análises e construções dos modelos de aprendizado, que os algoritmos de predição **Random Forest** e **Support Vector Classifier**, nos fornecem uma margem de **91%** de acerto quanto à qualidade dos vinhos. \n",
        "\n",
        ">> * **GridSearchCV** realiza a criação de combinações de parâmetros para posteriormente avaliá-las, e com isso, ele consegue determinar quais são os melhores parâmetros para o nosso modelo.\n",
        "\n",
        ">> * **cross_val_score** separa uma parte dos dados para treino e teste criando várias combinações diferentes, onde cada combinação nos retorna um valor que é sua taxa de acerto. Em síntese, foi calculado a média dessas taxas, determinando assim a taxa média de acerto dentre essas combinações.\n",
        "\n",
        "> Conclui-se que o uso desses algoritmos nos possibilitaram alcançar um valor de acertividade relevante para os nosso modelos.\n"
      ]
    },
    {
      "cell_type": "code",
      "metadata": {
        "id": "Cvk1_wTsCFd3",
        "colab_type": "code",
        "colab": {}
      },
      "source": [
        ""
      ],
      "execution_count": null,
      "outputs": []
    }
  ]
}