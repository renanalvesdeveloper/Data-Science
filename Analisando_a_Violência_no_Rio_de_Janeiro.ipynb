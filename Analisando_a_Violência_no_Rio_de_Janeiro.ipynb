{
  "nbformat": 4,
  "nbformat_minor": 0,
  "metadata": {
    "colab": {
      "name": "Analisando a Violência no Rio de Janeiro.ipynb",
      "provenance": [],
      "collapsed_sections": [],
      "toc_visible": true,
      "include_colab_link": true
    },
    "kernelspec": {
      "name": "python3",
      "display_name": "Python 3"
    }
  },
  "cells": [
    {
      "cell_type": "markdown",
      "metadata": {
        "id": "view-in-github",
        "colab_type": "text"
      },
      "source": [
        "<a href=\"https://colab.research.google.com/github/renanalvesdeveloper/Data-Science/blob/master/Analisando_a_Viol%C3%AAncia_no_Rio_de_Janeiro.ipynb\" target=\"_parent\"><img src=\"https://colab.research.google.com/assets/colab-badge.svg\" alt=\"Open In Colab\"/></a>"
      ]
    },
    {
      "cell_type": "markdown",
      "metadata": {
        "id": "-eFQZydM9O9J",
        "colab_type": "text"
      },
      "source": [
        "<img alt=\"Colaboratory logo\" width=\"100%\" src=\"https://i.ibb.co/XstkjGz/viol-ncia-no-rio-de-janeiro.png\">\n",
        "\n",
        "*by [Renan Alves](https://www.linkedin.com/in/renan-alves-9b1b71b7/)*\n",
        "\n",
        "---\n",
        "\n",
        "# Analisando a Violência no Rio de Janeiro\n",
        "\n",
        "O Rio de Janeiro é uma das cidades mais belas do nosso país e um dos maiores destinos turísticos do Brasil, porém a cidade maravilhosa, como é conhecida, vem sofrendo em decorrência da violência urbana.\n",
        "\n",
        "A cidade vem cada vez mais conquistando espaço na imprensa nacional e internacional.\n",
        "\n",
        "Neste notebook, faremos uma análise em cima dos indicadores estatísticos da violência no Rio, explorando algumas das variáveis fornecidas.\n",
        "\n",
        "---\n",
        "  "
      ]
    },
    {
      "cell_type": "markdown",
      "metadata": {
        "colab_type": "text",
        "id": "CKBB6ee1cyex"
      },
      "source": [
        "## Obtenção dos Dados\n",
        "\n",
        "\n",
        "Os dados foram obtidos diretamento do portal ISPDados, que é uma página de Dados Abertos do Instituto de Segurança Pública do Rio de Janeiro.\n",
        "\n",
        "As estatísticas divulgadas no portal são construídas a partir dos Registros de Ocorrência (RO) lavrados nas delegacias de Polícia Civil do Estado do Rio de Janeiro, além de informações complementares de órgãos específicos da Polícia Militar do Estado do Rio de Janeiro.\n",
        "\n",
        "Como forma de criar um controle de qualidade, antes de serem consolidados no ISP os RO são submetidos à Corregedoria Interna da Polícia Civil (COINPOL). As estatísticas produzidas baseiam-se na data em que foi confeccionado o Registro de Ocorrência.\n",
        "\n",
        "No caso do *dataset* a ser utilizado aqui, o arquivo `csv` pode ser baixado diretamente [neste link](https://raw.githubusercontent.com/renanalvesdeveloper/Data-Science/master/violencia_rio.csv).\n",
        "\n",
        "Para mais informações sobre esses dados você pode consultar os seguintes links:\n",
        "\n",
        "Site oficial, do Governo do Estado do Rio de Janeiro:\n",
        "http://www.ispdados.rj.gov.br/estatistica.html\n",
        "\n",
        "Um dashboard interativo e visual pode ser encontrado no site abaixo:\n",
        "http://www.ispvisualizacao.rj.gov.br/index.html"
      ]
    },
    {
      "cell_type": "markdown",
      "metadata": {
        "id": "7vh4at0l90nr",
        "colab_type": "text"
      },
      "source": [
        "### Importando os dados\n"
      ]
    },
    {
      "cell_type": "code",
      "metadata": {
        "id": "CYLNme_OCX_R",
        "colab_type": "code",
        "colab": {}
      },
      "source": [
        "import pandas as pd\n",
        "import matplotlib.pyplot as plt\n",
        "import seaborn as sns\n",
        "\n",
        "df_rio = pd.read_csv(\"https://raw.githubusercontent.com/renanalvesdeveloper/Data-Science/master/violencia_rio.csv\")"
      ],
      "execution_count": 0,
      "outputs": []
    },
    {
      "cell_type": "markdown",
      "metadata": {
        "id": "qb5By2nIMS6m",
        "colab_type": "text"
      },
      "source": [
        "## Análise Inicial dos Dados\n",
        "\n",
        "Antes de começarmos a explorar nosso dataset, é preciso saber com o que estamos lidando. Para começarmos a entender melhor esse aspecto, vamos verificar as dimensões do dataset, como os nossos dados estão estruturados.\n",
        "\n"
      ]
    },
    {
      "cell_type": "markdown",
      "metadata": {
        "id": "1Y1u7Sz9lMSP",
        "colab_type": "text"
      },
      "source": [
        "Vamos verificar as dimensões do nosso DataFrame"
      ]
    },
    {
      "cell_type": "code",
      "metadata": {
        "id": "xfKZfGGblRzg",
        "colab_type": "code",
        "colab": {
          "base_uri": "https://localhost:8080/",
          "height": 52
        },
        "outputId": "2b108f27-beb4-4c38-8faa-39c8f1841e76"
      },
      "source": [
        "print(\"Número de Linhas: \", df_rio.shape[0])\n",
        "print(\"Número de Colunas: \", df_rio.shape[1])"
      ],
      "execution_count": 4,
      "outputs": [
        {
          "output_type": "stream",
          "text": [
            "Número de Linhas:  344\n",
            "Número de Colunas:  56\n"
          ],
          "name": "stdout"
        }
      ]
    },
    {
      "cell_type": "markdown",
      "metadata": {
        "id": "2WZjQZ42lwce",
        "colab_type": "text"
      },
      "source": [
        "Agora que já sabemos as dimensões dos nossos dados, vamos verificar quais colunas existente em nosso DataFrame."
      ]
    },
    {
      "cell_type": "code",
      "metadata": {
        "id": "V-iuxi29mR6a",
        "colab_type": "code",
        "colab": {
          "base_uri": "https://localhost:8080/",
          "height": 318
        },
        "outputId": "fdff9f4c-4ebe-41bd-94f1-3f49d859820e"
      },
      "source": [
        "df_rio.columns"
      ],
      "execution_count": 5,
      "outputs": [
        {
          "output_type": "execute_result",
          "data": {
            "text/plain": [
              "Index(['vano', 'mes', 'hom_doloso', 'lesao_corp_morte', 'latrocinio',\n",
              "       'hom_por_interv_policial', 'tentat_hom', 'lesao_corp_dolosa', 'estupro',\n",
              "       'hom_culposo', 'lesao_corp_culposa', 'roubo_comercio',\n",
              "       'roubo_residencia', 'roubo_veiculo', 'roubo_carga', 'roubo_transeunte',\n",
              "       'roubo_em_coletivo', 'roubo_banco', 'roubo_cx_eletronico',\n",
              "       'roubo_celular', 'roubo_conducao_saque', 'roubo_apos_saque',\n",
              "       'roubo_bicicleta', 'outros_roubos', 'total_roubos', 'furto_veiculos',\n",
              "       'furto_transeunte', 'furto_coletivo', 'furto_celular',\n",
              "       'furto_bicicleta', 'outros_furtos', 'total_furtos', 'sequestro',\n",
              "       'extorsao', 'sequestro_relampago', 'estelionato', 'apreensao_drogas',\n",
              "       'posse_drogas', 'trafico_drogas', 'apreensao_drogas_sem_autor',\n",
              "       'recuperacao_veiculos', 'apf', 'aaapai', 'cmp', 'cmba', 'ameaca',\n",
              "       'pessoas_desaparecidas', 'encontro_cadaver', 'encontro_ossada',\n",
              "       'pol_militares_mortos_serv', 'pol_civis_mortos_serv',\n",
              "       'indicador_letalidade', 'indicador_roubo_rua', 'indicador_roubo_veic',\n",
              "       'registro_ocorrencias', 'fase'],\n",
              "      dtype='object')"
            ]
          },
          "metadata": {
            "tags": []
          },
          "execution_count": 5
        }
      ]
    },
    {
      "cell_type": "markdown",
      "metadata": {
        "id": "y1Z_yGWsmonc",
        "colab_type": "text"
      },
      "source": [
        "Já que sabemos a quantidade de linhas e colunas que temos para analisar e quais são elas, outro passo fundamental nessa análise inicial e verificarmo o tipo de cada coluna.\n",
        "\n",
        "Este passo é importante uma vez que nos ajudará a direcionar o nosso trabalho na etapada de limpeza dos dados."
      ]
    },
    {
      "cell_type": "code",
      "metadata": {
        "id": "D2ycdAhsnZKw",
        "colab_type": "code",
        "colab": {
          "base_uri": "https://localhost:8080/",
          "height": 1000
        },
        "outputId": "1d07013b-441f-4bd4-f169-ae67c6e967c0"
      },
      "source": [
        "df_rio.dtypes"
      ],
      "execution_count": 6,
      "outputs": [
        {
          "output_type": "execute_result",
          "data": {
            "text/plain": [
              "vano                            int64\n",
              "mes                             int64\n",
              "hom_doloso                      int64\n",
              "lesao_corp_morte              float64\n",
              "latrocinio                      int64\n",
              "hom_por_interv_policial       float64\n",
              "tentat_hom                      int64\n",
              "lesao_corp_dolosa               int64\n",
              "estupro                       float64\n",
              "hom_culposo                   float64\n",
              "lesao_corp_culposa            float64\n",
              "roubo_comercio                  int64\n",
              "roubo_residencia                int64\n",
              "roubo_veiculo                   int64\n",
              "roubo_carga                     int64\n",
              "roubo_transeunte                int64\n",
              "roubo_em_coletivo               int64\n",
              "roubo_banco                     int64\n",
              "roubo_cx_eletronico           float64\n",
              "roubo_celular                 float64\n",
              "roubo_conducao_saque          float64\n",
              "roubo_apos_saque              float64\n",
              "roubo_bicicleta               float64\n",
              "outros_roubos                   int64\n",
              "total_roubos                    int64\n",
              "furto_veiculos                  int64\n",
              "furto_transeunte                int64\n",
              "furto_coletivo                float64\n",
              "furto_celular                 float64\n",
              "furto_bicicleta               float64\n",
              "outros_furtos                   int64\n",
              "total_furtos                    int64\n",
              "sequestro                     float64\n",
              "extorsao                      float64\n",
              "sequestro_relampago           float64\n",
              "estelionato                   float64\n",
              "apreensao_drogas                int64\n",
              "posse_drogas                  float64\n",
              "trafico_drogas                float64\n",
              "apreensao_drogas_sem_autor    float64\n",
              "recuperacao_veiculos            int64\n",
              "apf                           float64\n",
              "aaapai                        float64\n",
              "cmp                           float64\n",
              "cmba                          float64\n",
              "ameaca                        float64\n",
              "pessoas_desaparecidas         float64\n",
              "encontro_cadaver                int64\n",
              "encontro_ossada               float64\n",
              "pol_militares_mortos_serv     float64\n",
              "pol_civis_mortos_serv         float64\n",
              "indicador_letalidade            int64\n",
              "indicador_roubo_rua             int64\n",
              "indicador_roubo_veic            int64\n",
              "registro_ocorrencias          float64\n",
              "fase                            int64\n",
              "dtype: object"
            ]
          },
          "metadata": {
            "tags": []
          },
          "execution_count": 6
        }
      ]
    },
    {
      "cell_type": "markdown",
      "metadata": {
        "id": "n9mcFPt3nrow",
        "colab_type": "text"
      },
      "source": [
        "Vamos agora visualiar as 5 primeiras linhas do nosso DataFrame."
      ]
    },
    {
      "cell_type": "code",
      "metadata": {
        "id": "SeJg3mFzoS6z",
        "colab_type": "code",
        "colab": {
          "base_uri": "https://localhost:8080/",
          "height": 217
        },
        "outputId": "d589a31e-201e-455b-99da-0ce6a5974b84"
      },
      "source": [
        "df_rio.head()"
      ],
      "execution_count": 7,
      "outputs": [
        {
          "output_type": "execute_result",
          "data": {
            "text/html": [
              "<div>\n",
              "<style scoped>\n",
              "    .dataframe tbody tr th:only-of-type {\n",
              "        vertical-align: middle;\n",
              "    }\n",
              "\n",
              "    .dataframe tbody tr th {\n",
              "        vertical-align: top;\n",
              "    }\n",
              "\n",
              "    .dataframe thead th {\n",
              "        text-align: right;\n",
              "    }\n",
              "</style>\n",
              "<table border=\"1\" class=\"dataframe\">\n",
              "  <thead>\n",
              "    <tr style=\"text-align: right;\">\n",
              "      <th></th>\n",
              "      <th>vano</th>\n",
              "      <th>mes</th>\n",
              "      <th>hom_doloso</th>\n",
              "      <th>lesao_corp_morte</th>\n",
              "      <th>latrocinio</th>\n",
              "      <th>hom_por_interv_policial</th>\n",
              "      <th>tentat_hom</th>\n",
              "      <th>lesao_corp_dolosa</th>\n",
              "      <th>estupro</th>\n",
              "      <th>hom_culposo</th>\n",
              "      <th>lesao_corp_culposa</th>\n",
              "      <th>roubo_comercio</th>\n",
              "      <th>roubo_residencia</th>\n",
              "      <th>roubo_veiculo</th>\n",
              "      <th>roubo_carga</th>\n",
              "      <th>roubo_transeunte</th>\n",
              "      <th>roubo_em_coletivo</th>\n",
              "      <th>roubo_banco</th>\n",
              "      <th>roubo_cx_eletronico</th>\n",
              "      <th>roubo_celular</th>\n",
              "      <th>roubo_conducao_saque</th>\n",
              "      <th>roubo_apos_saque</th>\n",
              "      <th>roubo_bicicleta</th>\n",
              "      <th>outros_roubos</th>\n",
              "      <th>total_roubos</th>\n",
              "      <th>furto_veiculos</th>\n",
              "      <th>furto_transeunte</th>\n",
              "      <th>furto_coletivo</th>\n",
              "      <th>furto_celular</th>\n",
              "      <th>furto_bicicleta</th>\n",
              "      <th>outros_furtos</th>\n",
              "      <th>total_furtos</th>\n",
              "      <th>sequestro</th>\n",
              "      <th>extorsao</th>\n",
              "      <th>sequestro_relampago</th>\n",
              "      <th>estelionato</th>\n",
              "      <th>apreensao_drogas</th>\n",
              "      <th>posse_drogas</th>\n",
              "      <th>trafico_drogas</th>\n",
              "      <th>apreensao_drogas_sem_autor</th>\n",
              "      <th>recuperacao_veiculos</th>\n",
              "      <th>apf</th>\n",
              "      <th>aaapai</th>\n",
              "      <th>cmp</th>\n",
              "      <th>cmba</th>\n",
              "      <th>ameaca</th>\n",
              "      <th>pessoas_desaparecidas</th>\n",
              "      <th>encontro_cadaver</th>\n",
              "      <th>encontro_ossada</th>\n",
              "      <th>pol_militares_mortos_serv</th>\n",
              "      <th>pol_civis_mortos_serv</th>\n",
              "      <th>indicador_letalidade</th>\n",
              "      <th>indicador_roubo_rua</th>\n",
              "      <th>indicador_roubo_veic</th>\n",
              "      <th>registro_ocorrencias</th>\n",
              "      <th>fase</th>\n",
              "    </tr>\n",
              "  </thead>\n",
              "  <tbody>\n",
              "    <tr>\n",
              "      <th>0</th>\n",
              "      <td>1991</td>\n",
              "      <td>1</td>\n",
              "      <td>657</td>\n",
              "      <td>NaN</td>\n",
              "      <td>15</td>\n",
              "      <td>NaN</td>\n",
              "      <td>162</td>\n",
              "      <td>3051</td>\n",
              "      <td>NaN</td>\n",
              "      <td>NaN</td>\n",
              "      <td>NaN</td>\n",
              "      <td>350</td>\n",
              "      <td>188</td>\n",
              "      <td>1174</td>\n",
              "      <td>63</td>\n",
              "      <td>967</td>\n",
              "      <td>381</td>\n",
              "      <td>37</td>\n",
              "      <td>NaN</td>\n",
              "      <td>NaN</td>\n",
              "      <td>NaN</td>\n",
              "      <td>NaN</td>\n",
              "      <td>NaN</td>\n",
              "      <td>158</td>\n",
              "      <td>3318</td>\n",
              "      <td>2009</td>\n",
              "      <td>1147</td>\n",
              "      <td>NaN</td>\n",
              "      <td>NaN</td>\n",
              "      <td>NaN</td>\n",
              "      <td>3561</td>\n",
              "      <td>6717</td>\n",
              "      <td>NaN</td>\n",
              "      <td>NaN</td>\n",
              "      <td>NaN</td>\n",
              "      <td>NaN</td>\n",
              "      <td>133</td>\n",
              "      <td>NaN</td>\n",
              "      <td>NaN</td>\n",
              "      <td>NaN</td>\n",
              "      <td>872</td>\n",
              "      <td>NaN</td>\n",
              "      <td>NaN</td>\n",
              "      <td>NaN</td>\n",
              "      <td>NaN</td>\n",
              "      <td>NaN</td>\n",
              "      <td>NaN</td>\n",
              "      <td>217</td>\n",
              "      <td>NaN</td>\n",
              "      <td>NaN</td>\n",
              "      <td>NaN</td>\n",
              "      <td>672</td>\n",
              "      <td>1348</td>\n",
              "      <td>1174</td>\n",
              "      <td>NaN</td>\n",
              "      <td>3</td>\n",
              "    </tr>\n",
              "    <tr>\n",
              "      <th>1</th>\n",
              "      <td>1991</td>\n",
              "      <td>2</td>\n",
              "      <td>732</td>\n",
              "      <td>NaN</td>\n",
              "      <td>17</td>\n",
              "      <td>NaN</td>\n",
              "      <td>175</td>\n",
              "      <td>3421</td>\n",
              "      <td>NaN</td>\n",
              "      <td>NaN</td>\n",
              "      <td>NaN</td>\n",
              "      <td>357</td>\n",
              "      <td>171</td>\n",
              "      <td>1097</td>\n",
              "      <td>64</td>\n",
              "      <td>963</td>\n",
              "      <td>432</td>\n",
              "      <td>35</td>\n",
              "      <td>NaN</td>\n",
              "      <td>NaN</td>\n",
              "      <td>NaN</td>\n",
              "      <td>NaN</td>\n",
              "      <td>NaN</td>\n",
              "      <td>142</td>\n",
              "      <td>3261</td>\n",
              "      <td>1850</td>\n",
              "      <td>1066</td>\n",
              "      <td>NaN</td>\n",
              "      <td>NaN</td>\n",
              "      <td>NaN</td>\n",
              "      <td>3309</td>\n",
              "      <td>6225</td>\n",
              "      <td>NaN</td>\n",
              "      <td>NaN</td>\n",
              "      <td>NaN</td>\n",
              "      <td>NaN</td>\n",
              "      <td>127</td>\n",
              "      <td>NaN</td>\n",
              "      <td>NaN</td>\n",
              "      <td>NaN</td>\n",
              "      <td>751</td>\n",
              "      <td>NaN</td>\n",
              "      <td>NaN</td>\n",
              "      <td>NaN</td>\n",
              "      <td>NaN</td>\n",
              "      <td>NaN</td>\n",
              "      <td>NaN</td>\n",
              "      <td>209</td>\n",
              "      <td>NaN</td>\n",
              "      <td>NaN</td>\n",
              "      <td>NaN</td>\n",
              "      <td>749</td>\n",
              "      <td>1395</td>\n",
              "      <td>1097</td>\n",
              "      <td>NaN</td>\n",
              "      <td>3</td>\n",
              "    </tr>\n",
              "    <tr>\n",
              "      <th>2</th>\n",
              "      <td>1991</td>\n",
              "      <td>3</td>\n",
              "      <td>713</td>\n",
              "      <td>NaN</td>\n",
              "      <td>25</td>\n",
              "      <td>NaN</td>\n",
              "      <td>216</td>\n",
              "      <td>3613</td>\n",
              "      <td>NaN</td>\n",
              "      <td>NaN</td>\n",
              "      <td>NaN</td>\n",
              "      <td>443</td>\n",
              "      <td>191</td>\n",
              "      <td>1265</td>\n",
              "      <td>71</td>\n",
              "      <td>963</td>\n",
              "      <td>422</td>\n",
              "      <td>43</td>\n",
              "      <td>NaN</td>\n",
              "      <td>NaN</td>\n",
              "      <td>NaN</td>\n",
              "      <td>NaN</td>\n",
              "      <td>NaN</td>\n",
              "      <td>131</td>\n",
              "      <td>3529</td>\n",
              "      <td>2084</td>\n",
              "      <td>1062</td>\n",
              "      <td>NaN</td>\n",
              "      <td>NaN</td>\n",
              "      <td>NaN</td>\n",
              "      <td>3573</td>\n",
              "      <td>6719</td>\n",
              "      <td>NaN</td>\n",
              "      <td>NaN</td>\n",
              "      <td>NaN</td>\n",
              "      <td>NaN</td>\n",
              "      <td>80</td>\n",
              "      <td>NaN</td>\n",
              "      <td>NaN</td>\n",
              "      <td>NaN</td>\n",
              "      <td>789</td>\n",
              "      <td>NaN</td>\n",
              "      <td>NaN</td>\n",
              "      <td>NaN</td>\n",
              "      <td>NaN</td>\n",
              "      <td>NaN</td>\n",
              "      <td>NaN</td>\n",
              "      <td>188</td>\n",
              "      <td>NaN</td>\n",
              "      <td>NaN</td>\n",
              "      <td>NaN</td>\n",
              "      <td>738</td>\n",
              "      <td>1385</td>\n",
              "      <td>1265</td>\n",
              "      <td>NaN</td>\n",
              "      <td>3</td>\n",
              "    </tr>\n",
              "    <tr>\n",
              "      <th>3</th>\n",
              "      <td>1991</td>\n",
              "      <td>4</td>\n",
              "      <td>634</td>\n",
              "      <td>NaN</td>\n",
              "      <td>20</td>\n",
              "      <td>NaN</td>\n",
              "      <td>200</td>\n",
              "      <td>3211</td>\n",
              "      <td>NaN</td>\n",
              "      <td>NaN</td>\n",
              "      <td>NaN</td>\n",
              "      <td>425</td>\n",
              "      <td>199</td>\n",
              "      <td>1415</td>\n",
              "      <td>81</td>\n",
              "      <td>1186</td>\n",
              "      <td>354</td>\n",
              "      <td>36</td>\n",
              "      <td>NaN</td>\n",
              "      <td>NaN</td>\n",
              "      <td>NaN</td>\n",
              "      <td>NaN</td>\n",
              "      <td>NaN</td>\n",
              "      <td>112</td>\n",
              "      <td>3808</td>\n",
              "      <td>2085</td>\n",
              "      <td>1195</td>\n",
              "      <td>NaN</td>\n",
              "      <td>NaN</td>\n",
              "      <td>NaN</td>\n",
              "      <td>3290</td>\n",
              "      <td>6570</td>\n",
              "      <td>NaN</td>\n",
              "      <td>NaN</td>\n",
              "      <td>NaN</td>\n",
              "      <td>NaN</td>\n",
              "      <td>133</td>\n",
              "      <td>NaN</td>\n",
              "      <td>NaN</td>\n",
              "      <td>NaN</td>\n",
              "      <td>787</td>\n",
              "      <td>NaN</td>\n",
              "      <td>NaN</td>\n",
              "      <td>NaN</td>\n",
              "      <td>NaN</td>\n",
              "      <td>NaN</td>\n",
              "      <td>NaN</td>\n",
              "      <td>140</td>\n",
              "      <td>NaN</td>\n",
              "      <td>NaN</td>\n",
              "      <td>NaN</td>\n",
              "      <td>654</td>\n",
              "      <td>1540</td>\n",
              "      <td>1415</td>\n",
              "      <td>NaN</td>\n",
              "      <td>3</td>\n",
              "    </tr>\n",
              "    <tr>\n",
              "      <th>4</th>\n",
              "      <td>1991</td>\n",
              "      <td>5</td>\n",
              "      <td>650</td>\n",
              "      <td>NaN</td>\n",
              "      <td>20</td>\n",
              "      <td>NaN</td>\n",
              "      <td>146</td>\n",
              "      <td>3051</td>\n",
              "      <td>NaN</td>\n",
              "      <td>NaN</td>\n",
              "      <td>NaN</td>\n",
              "      <td>553</td>\n",
              "      <td>231</td>\n",
              "      <td>1449</td>\n",
              "      <td>82</td>\n",
              "      <td>931</td>\n",
              "      <td>335</td>\n",
              "      <td>27</td>\n",
              "      <td>NaN</td>\n",
              "      <td>NaN</td>\n",
              "      <td>NaN</td>\n",
              "      <td>NaN</td>\n",
              "      <td>NaN</td>\n",
              "      <td>147</td>\n",
              "      <td>3755</td>\n",
              "      <td>2185</td>\n",
              "      <td>723</td>\n",
              "      <td>NaN</td>\n",
              "      <td>NaN</td>\n",
              "      <td>NaN</td>\n",
              "      <td>3546</td>\n",
              "      <td>6454</td>\n",
              "      <td>NaN</td>\n",
              "      <td>NaN</td>\n",
              "      <td>NaN</td>\n",
              "      <td>NaN</td>\n",
              "      <td>163</td>\n",
              "      <td>NaN</td>\n",
              "      <td>NaN</td>\n",
              "      <td>NaN</td>\n",
              "      <td>845</td>\n",
              "      <td>NaN</td>\n",
              "      <td>NaN</td>\n",
              "      <td>NaN</td>\n",
              "      <td>NaN</td>\n",
              "      <td>NaN</td>\n",
              "      <td>NaN</td>\n",
              "      <td>78</td>\n",
              "      <td>NaN</td>\n",
              "      <td>NaN</td>\n",
              "      <td>NaN</td>\n",
              "      <td>670</td>\n",
              "      <td>1266</td>\n",
              "      <td>1449</td>\n",
              "      <td>NaN</td>\n",
              "      <td>3</td>\n",
              "    </tr>\n",
              "  </tbody>\n",
              "</table>\n",
              "</div>"
            ],
            "text/plain": [
              "   vano  mes  hom_doloso  ...  indicador_roubo_veic  registro_ocorrencias  fase\n",
              "0  1991    1         657  ...                  1174                   NaN     3\n",
              "1  1991    2         732  ...                  1097                   NaN     3\n",
              "2  1991    3         713  ...                  1265                   NaN     3\n",
              "3  1991    4         634  ...                  1415                   NaN     3\n",
              "4  1991    5         650  ...                  1449                   NaN     3\n",
              "\n",
              "[5 rows x 56 columns]"
            ]
          },
          "metadata": {
            "tags": []
          },
          "execution_count": 7
        }
      ]
    },
    {
      "cell_type": "markdown",
      "metadata": {
        "id": "37CVhf7Notwi",
        "colab_type": "text"
      },
      "source": [
        "Podemos notar que já nessa visualização prévia, temos uma grande quantidade de valores ausentes `NaN`.\n",
        "\n",
        "Antes de definirmos como iremos tratar esses dados, vamos verificar o percentual de valores ausentes em todo o nosso DataSet."
      ]
    },
    {
      "cell_type": "code",
      "metadata": {
        "id": "g0WzDcbgpYy8",
        "colab_type": "code",
        "colab": {
          "base_uri": "https://localhost:8080/",
          "height": 1000
        },
        "outputId": "7faeb16e-8fb6-4801-d811-b990d563320e"
      },
      "source": [
        "percentual = ((df_rio.isnull().sum()/df_rio.shape[0])*100).sort_values(ascending=False)\n",
        "percentual = pd.DataFrame(percentual)\n",
        "percentual.columns = [\"Porcentagem (%)\"]\n",
        "percentual.columns.name = \"Colunas\"\n",
        "percentual"
      ],
      "execution_count": 10,
      "outputs": [
        {
          "output_type": "execute_result",
          "data": {
            "text/html": [
              "<div>\n",
              "<style scoped>\n",
              "    .dataframe tbody tr th:only-of-type {\n",
              "        vertical-align: middle;\n",
              "    }\n",
              "\n",
              "    .dataframe tbody tr th {\n",
              "        vertical-align: top;\n",
              "    }\n",
              "\n",
              "    .dataframe thead th {\n",
              "        text-align: right;\n",
              "    }\n",
              "</style>\n",
              "<table border=\"1\" class=\"dataframe\">\n",
              "  <thead>\n",
              "    <tr style=\"text-align: right;\">\n",
              "      <th>Colunas</th>\n",
              "      <th>Porcentagem (%)</th>\n",
              "    </tr>\n",
              "  </thead>\n",
              "  <tbody>\n",
              "    <tr>\n",
              "      <th>roubo_bicicleta</th>\n",
              "      <td>80.232558</td>\n",
              "    </tr>\n",
              "    <tr>\n",
              "      <th>furto_bicicleta</th>\n",
              "      <td>80.232558</td>\n",
              "    </tr>\n",
              "    <tr>\n",
              "      <th>apreensao_drogas_sem_autor</th>\n",
              "      <td>52.325581</td>\n",
              "    </tr>\n",
              "    <tr>\n",
              "      <th>posse_drogas</th>\n",
              "      <td>52.325581</td>\n",
              "    </tr>\n",
              "    <tr>\n",
              "      <th>apf</th>\n",
              "      <td>52.325581</td>\n",
              "    </tr>\n",
              "    <tr>\n",
              "      <th>aaapai</th>\n",
              "      <td>52.325581</td>\n",
              "    </tr>\n",
              "    <tr>\n",
              "      <th>cmp</th>\n",
              "      <td>52.325581</td>\n",
              "    </tr>\n",
              "    <tr>\n",
              "      <th>trafico_drogas</th>\n",
              "      <td>52.325581</td>\n",
              "    </tr>\n",
              "    <tr>\n",
              "      <th>cmba</th>\n",
              "      <td>52.325581</td>\n",
              "    </tr>\n",
              "    <tr>\n",
              "      <th>sequestro_relampago</th>\n",
              "      <td>41.860465</td>\n",
              "    </tr>\n",
              "    <tr>\n",
              "      <th>furto_coletivo</th>\n",
              "      <td>41.860465</td>\n",
              "    </tr>\n",
              "    <tr>\n",
              "      <th>extorsao</th>\n",
              "      <td>41.860465</td>\n",
              "    </tr>\n",
              "    <tr>\n",
              "      <th>furto_celular</th>\n",
              "      <td>41.860465</td>\n",
              "    </tr>\n",
              "    <tr>\n",
              "      <th>roubo_apos_saque</th>\n",
              "      <td>41.860465</td>\n",
              "    </tr>\n",
              "    <tr>\n",
              "      <th>roubo_conducao_saque</th>\n",
              "      <td>41.860465</td>\n",
              "    </tr>\n",
              "    <tr>\n",
              "      <th>roubo_cx_eletronico</th>\n",
              "      <td>41.860465</td>\n",
              "    </tr>\n",
              "    <tr>\n",
              "      <th>estupro</th>\n",
              "      <td>41.860465</td>\n",
              "    </tr>\n",
              "    <tr>\n",
              "      <th>estelionato</th>\n",
              "      <td>41.860465</td>\n",
              "    </tr>\n",
              "    <tr>\n",
              "      <th>pol_civis_mortos_serv</th>\n",
              "      <td>41.860465</td>\n",
              "    </tr>\n",
              "    <tr>\n",
              "      <th>pol_militares_mortos_serv</th>\n",
              "      <td>41.860465</td>\n",
              "    </tr>\n",
              "    <tr>\n",
              "      <th>pessoas_desaparecidas</th>\n",
              "      <td>38.372093</td>\n",
              "    </tr>\n",
              "    <tr>\n",
              "      <th>encontro_ossada</th>\n",
              "      <td>38.372093</td>\n",
              "    </tr>\n",
              "    <tr>\n",
              "      <th>roubo_celular</th>\n",
              "      <td>31.395349</td>\n",
              "    </tr>\n",
              "    <tr>\n",
              "      <th>lesao_corp_culposa</th>\n",
              "      <td>27.906977</td>\n",
              "    </tr>\n",
              "    <tr>\n",
              "      <th>ameaca</th>\n",
              "      <td>27.906977</td>\n",
              "    </tr>\n",
              "    <tr>\n",
              "      <th>sequestro</th>\n",
              "      <td>27.906977</td>\n",
              "    </tr>\n",
              "    <tr>\n",
              "      <th>lesao_corp_morte</th>\n",
              "      <td>27.906977</td>\n",
              "    </tr>\n",
              "    <tr>\n",
              "      <th>registro_ocorrencias</th>\n",
              "      <td>27.906977</td>\n",
              "    </tr>\n",
              "    <tr>\n",
              "      <th>hom_por_interv_policial</th>\n",
              "      <td>24.418605</td>\n",
              "    </tr>\n",
              "    <tr>\n",
              "      <th>hom_culposo</th>\n",
              "      <td>24.418605</td>\n",
              "    </tr>\n",
              "    <tr>\n",
              "      <th>tentat_hom</th>\n",
              "      <td>0.000000</td>\n",
              "    </tr>\n",
              "    <tr>\n",
              "      <th>roubo_comercio</th>\n",
              "      <td>0.000000</td>\n",
              "    </tr>\n",
              "    <tr>\n",
              "      <th>roubo_residencia</th>\n",
              "      <td>0.000000</td>\n",
              "    </tr>\n",
              "    <tr>\n",
              "      <th>latrocinio</th>\n",
              "      <td>0.000000</td>\n",
              "    </tr>\n",
              "    <tr>\n",
              "      <th>lesao_corp_dolosa</th>\n",
              "      <td>0.000000</td>\n",
              "    </tr>\n",
              "    <tr>\n",
              "      <th>hom_doloso</th>\n",
              "      <td>0.000000</td>\n",
              "    </tr>\n",
              "    <tr>\n",
              "      <th>roubo_transeunte</th>\n",
              "      <td>0.000000</td>\n",
              "    </tr>\n",
              "    <tr>\n",
              "      <th>mes</th>\n",
              "      <td>0.000000</td>\n",
              "    </tr>\n",
              "    <tr>\n",
              "      <th>roubo_veiculo</th>\n",
              "      <td>0.000000</td>\n",
              "    </tr>\n",
              "    <tr>\n",
              "      <th>roubo_carga</th>\n",
              "      <td>0.000000</td>\n",
              "    </tr>\n",
              "    <tr>\n",
              "      <th>fase</th>\n",
              "      <td>0.000000</td>\n",
              "    </tr>\n",
              "    <tr>\n",
              "      <th>roubo_em_coletivo</th>\n",
              "      <td>0.000000</td>\n",
              "    </tr>\n",
              "    <tr>\n",
              "      <th>roubo_banco</th>\n",
              "      <td>0.000000</td>\n",
              "    </tr>\n",
              "    <tr>\n",
              "      <th>outros_roubos</th>\n",
              "      <td>0.000000</td>\n",
              "    </tr>\n",
              "    <tr>\n",
              "      <th>total_roubos</th>\n",
              "      <td>0.000000</td>\n",
              "    </tr>\n",
              "    <tr>\n",
              "      <th>furto_veiculos</th>\n",
              "      <td>0.000000</td>\n",
              "    </tr>\n",
              "    <tr>\n",
              "      <th>furto_transeunte</th>\n",
              "      <td>0.000000</td>\n",
              "    </tr>\n",
              "    <tr>\n",
              "      <th>outros_furtos</th>\n",
              "      <td>0.000000</td>\n",
              "    </tr>\n",
              "    <tr>\n",
              "      <th>total_furtos</th>\n",
              "      <td>0.000000</td>\n",
              "    </tr>\n",
              "    <tr>\n",
              "      <th>apreensao_drogas</th>\n",
              "      <td>0.000000</td>\n",
              "    </tr>\n",
              "    <tr>\n",
              "      <th>recuperacao_veiculos</th>\n",
              "      <td>0.000000</td>\n",
              "    </tr>\n",
              "    <tr>\n",
              "      <th>encontro_cadaver</th>\n",
              "      <td>0.000000</td>\n",
              "    </tr>\n",
              "    <tr>\n",
              "      <th>indicador_letalidade</th>\n",
              "      <td>0.000000</td>\n",
              "    </tr>\n",
              "    <tr>\n",
              "      <th>indicador_roubo_rua</th>\n",
              "      <td>0.000000</td>\n",
              "    </tr>\n",
              "    <tr>\n",
              "      <th>indicador_roubo_veic</th>\n",
              "      <td>0.000000</td>\n",
              "    </tr>\n",
              "    <tr>\n",
              "      <th>vano</th>\n",
              "      <td>0.000000</td>\n",
              "    </tr>\n",
              "  </tbody>\n",
              "</table>\n",
              "</div>"
            ],
            "text/plain": [
              "Colunas                     Porcentagem (%)\n",
              "roubo_bicicleta                   80.232558\n",
              "furto_bicicleta                   80.232558\n",
              "apreensao_drogas_sem_autor        52.325581\n",
              "posse_drogas                      52.325581\n",
              "apf                               52.325581\n",
              "aaapai                            52.325581\n",
              "cmp                               52.325581\n",
              "trafico_drogas                    52.325581\n",
              "cmba                              52.325581\n",
              "sequestro_relampago               41.860465\n",
              "furto_coletivo                    41.860465\n",
              "extorsao                          41.860465\n",
              "furto_celular                     41.860465\n",
              "roubo_apos_saque                  41.860465\n",
              "roubo_conducao_saque              41.860465\n",
              "roubo_cx_eletronico               41.860465\n",
              "estupro                           41.860465\n",
              "estelionato                       41.860465\n",
              "pol_civis_mortos_serv             41.860465\n",
              "pol_militares_mortos_serv         41.860465\n",
              "pessoas_desaparecidas             38.372093\n",
              "encontro_ossada                   38.372093\n",
              "roubo_celular                     31.395349\n",
              "lesao_corp_culposa                27.906977\n",
              "ameaca                            27.906977\n",
              "sequestro                         27.906977\n",
              "lesao_corp_morte                  27.906977\n",
              "registro_ocorrencias              27.906977\n",
              "hom_por_interv_policial           24.418605\n",
              "hom_culposo                       24.418605\n",
              "tentat_hom                         0.000000\n",
              "roubo_comercio                     0.000000\n",
              "roubo_residencia                   0.000000\n",
              "latrocinio                         0.000000\n",
              "lesao_corp_dolosa                  0.000000\n",
              "hom_doloso                         0.000000\n",
              "roubo_transeunte                   0.000000\n",
              "mes                                0.000000\n",
              "roubo_veiculo                      0.000000\n",
              "roubo_carga                        0.000000\n",
              "fase                               0.000000\n",
              "roubo_em_coletivo                  0.000000\n",
              "roubo_banco                        0.000000\n",
              "outros_roubos                      0.000000\n",
              "total_roubos                       0.000000\n",
              "furto_veiculos                     0.000000\n",
              "furto_transeunte                   0.000000\n",
              "outros_furtos                      0.000000\n",
              "total_furtos                       0.000000\n",
              "apreensao_drogas                   0.000000\n",
              "recuperacao_veiculos               0.000000\n",
              "encontro_cadaver                   0.000000\n",
              "indicador_letalidade               0.000000\n",
              "indicador_roubo_rua                0.000000\n",
              "indicador_roubo_veic               0.000000\n",
              "vano                               0.000000"
            ]
          },
          "metadata": {
            "tags": []
          },
          "execution_count": 10
        }
      ]
    },
    {
      "cell_type": "markdown",
      "metadata": {
        "id": "0_4Y0miFsAcR",
        "colab_type": "text"
      },
      "source": [
        "Podemos observar que os crimes relacionados a bicicletas e drogas possuem um alto percentual de dados faltantes.\n",
        "\n",
        "É possível construir uma análise usando como base as nossas colunas `vano` e `mes`, verificando assim os indices de ocorrência ao longo do tempo.\n",
        "\n",
        "Além disso, exite a possibilidade de realizarmos análises por catégoria de crimes (Contra a vida, Contra o patrimônio, etc.)\n"
      ]
    },
    {
      "cell_type": "markdown",
      "metadata": {
        "colab_type": "text",
        "id": "m5YI6y0swGpp"
      },
      "source": [
        "## Informações Estatísticas da Violência no Rio de Janeiro\n",
        "\n",
        "Usando o método `describe` podemos visualizar a distribuição estatísca do DataFrame.\n"
      ]
    },
    {
      "cell_type": "code",
      "metadata": {
        "id": "iokw44OsxDfu",
        "colab_type": "code",
        "colab": {
          "base_uri": "https://localhost:8080/",
          "height": 307
        },
        "outputId": "5ec1b687-57de-4944-b7f3-8eb6aa70326e"
      },
      "source": [
        "df_rio.describe()"
      ],
      "execution_count": 12,
      "outputs": [
        {
          "output_type": "execute_result",
          "data": {
            "text/html": [
              "<div>\n",
              "<style scoped>\n",
              "    .dataframe tbody tr th:only-of-type {\n",
              "        vertical-align: middle;\n",
              "    }\n",
              "\n",
              "    .dataframe tbody tr th {\n",
              "        vertical-align: top;\n",
              "    }\n",
              "\n",
              "    .dataframe thead th {\n",
              "        text-align: right;\n",
              "    }\n",
              "</style>\n",
              "<table border=\"1\" class=\"dataframe\">\n",
              "  <thead>\n",
              "    <tr style=\"text-align: right;\">\n",
              "      <th></th>\n",
              "      <th>vano</th>\n",
              "      <th>mes</th>\n",
              "      <th>hom_doloso</th>\n",
              "      <th>lesao_corp_morte</th>\n",
              "      <th>latrocinio</th>\n",
              "      <th>hom_por_interv_policial</th>\n",
              "      <th>tentat_hom</th>\n",
              "      <th>lesao_corp_dolosa</th>\n",
              "      <th>estupro</th>\n",
              "      <th>hom_culposo</th>\n",
              "      <th>lesao_corp_culposa</th>\n",
              "      <th>roubo_comercio</th>\n",
              "      <th>roubo_residencia</th>\n",
              "      <th>roubo_veiculo</th>\n",
              "      <th>roubo_carga</th>\n",
              "      <th>roubo_transeunte</th>\n",
              "      <th>roubo_em_coletivo</th>\n",
              "      <th>roubo_banco</th>\n",
              "      <th>roubo_cx_eletronico</th>\n",
              "      <th>roubo_celular</th>\n",
              "      <th>roubo_conducao_saque</th>\n",
              "      <th>roubo_apos_saque</th>\n",
              "      <th>roubo_bicicleta</th>\n",
              "      <th>outros_roubos</th>\n",
              "      <th>total_roubos</th>\n",
              "      <th>furto_veiculos</th>\n",
              "      <th>furto_transeunte</th>\n",
              "      <th>furto_coletivo</th>\n",
              "      <th>furto_celular</th>\n",
              "      <th>furto_bicicleta</th>\n",
              "      <th>outros_furtos</th>\n",
              "      <th>total_furtos</th>\n",
              "      <th>sequestro</th>\n",
              "      <th>extorsao</th>\n",
              "      <th>sequestro_relampago</th>\n",
              "      <th>estelionato</th>\n",
              "      <th>apreensao_drogas</th>\n",
              "      <th>posse_drogas</th>\n",
              "      <th>trafico_drogas</th>\n",
              "      <th>apreensao_drogas_sem_autor</th>\n",
              "      <th>recuperacao_veiculos</th>\n",
              "      <th>apf</th>\n",
              "      <th>aaapai</th>\n",
              "      <th>cmp</th>\n",
              "      <th>cmba</th>\n",
              "      <th>ameaca</th>\n",
              "      <th>pessoas_desaparecidas</th>\n",
              "      <th>encontro_cadaver</th>\n",
              "      <th>encontro_ossada</th>\n",
              "      <th>pol_militares_mortos_serv</th>\n",
              "      <th>pol_civis_mortos_serv</th>\n",
              "      <th>indicador_letalidade</th>\n",
              "      <th>indicador_roubo_rua</th>\n",
              "      <th>indicador_roubo_veic</th>\n",
              "      <th>registro_ocorrencias</th>\n",
              "      <th>fase</th>\n",
              "    </tr>\n",
              "  </thead>\n",
              "  <tbody>\n",
              "    <tr>\n",
              "      <th>count</th>\n",
              "      <td>344.000000</td>\n",
              "      <td>344.000000</td>\n",
              "      <td>344.000000</td>\n",
              "      <td>248.000000</td>\n",
              "      <td>344.000000</td>\n",
              "      <td>260.00000</td>\n",
              "      <td>344.000000</td>\n",
              "      <td>344.000000</td>\n",
              "      <td>200.000000</td>\n",
              "      <td>260.000000</td>\n",
              "      <td>248.000000</td>\n",
              "      <td>344.000000</td>\n",
              "      <td>344.000000</td>\n",
              "      <td>344.000000</td>\n",
              "      <td>344.000000</td>\n",
              "      <td>344.000000</td>\n",
              "      <td>344.000000</td>\n",
              "      <td>344.000000</td>\n",
              "      <td>200.000000</td>\n",
              "      <td>236.000000</td>\n",
              "      <td>200.000000</td>\n",
              "      <td>200.000000</td>\n",
              "      <td>68.000000</td>\n",
              "      <td>344.000000</td>\n",
              "      <td>344.000000</td>\n",
              "      <td>344.000000</td>\n",
              "      <td>344.000000</td>\n",
              "      <td>200.000000</td>\n",
              "      <td>200.000000</td>\n",
              "      <td>68.000000</td>\n",
              "      <td>344.000000</td>\n",
              "      <td>344.000000</td>\n",
              "      <td>248.000000</td>\n",
              "      <td>200.000000</td>\n",
              "      <td>200.000000</td>\n",
              "      <td>200.000000</td>\n",
              "      <td>344.000000</td>\n",
              "      <td>164.000000</td>\n",
              "      <td>164.000000</td>\n",
              "      <td>164.000000</td>\n",
              "      <td>344.000000</td>\n",
              "      <td>164.000000</td>\n",
              "      <td>164.000000</td>\n",
              "      <td>164.000000</td>\n",
              "      <td>164.000000</td>\n",
              "      <td>248.000000</td>\n",
              "      <td>212.000000</td>\n",
              "      <td>344.000000</td>\n",
              "      <td>212.000000</td>\n",
              "      <td>200.000000</td>\n",
              "      <td>200.00000</td>\n",
              "      <td>344.000000</td>\n",
              "      <td>344.000000</td>\n",
              "      <td>344.000000</td>\n",
              "      <td>248.000000</td>\n",
              "      <td>344.000000</td>\n",
              "    </tr>\n",
              "    <tr>\n",
              "      <th>mean</th>\n",
              "      <td>2004.837209</td>\n",
              "      <td>6.453488</td>\n",
              "      <td>504.555233</td>\n",
              "      <td>4.334677</td>\n",
              "      <td>15.668605</td>\n",
              "      <td>71.90000</td>\n",
              "      <td>318.267442</td>\n",
              "      <td>5492.799419</td>\n",
              "      <td>369.945000</td>\n",
              "      <td>212.119231</td>\n",
              "      <td>3410.762097</td>\n",
              "      <td>455.005814</td>\n",
              "      <td>133.284884</td>\n",
              "      <td>2448.697674</td>\n",
              "      <td>340.322674</td>\n",
              "      <td>3418.520349</td>\n",
              "      <td>659.002907</td>\n",
              "      <td>9.375000</td>\n",
              "      <td>3.550000</td>\n",
              "      <td>957.974576</td>\n",
              "      <td>11.320000</td>\n",
              "      <td>145.665000</td>\n",
              "      <td>10.808824</td>\n",
              "      <td>1211.223837</td>\n",
              "      <td>9428.119186</td>\n",
              "      <td>1674.671512</td>\n",
              "      <td>1518.921512</td>\n",
              "      <td>650.230000</td>\n",
              "      <td>1449.175000</td>\n",
              "      <td>124.808824</td>\n",
              "      <td>5994.328488</td>\n",
              "      <td>10433.177326</td>\n",
              "      <td>0.665323</td>\n",
              "      <td>133.265000</td>\n",
              "      <td>7.755000</td>\n",
              "      <td>2231.860000</td>\n",
              "      <td>1071.930233</td>\n",
              "      <td>609.237805</td>\n",
              "      <td>759.146341</td>\n",
              "      <td>186.146341</td>\n",
              "      <td>1772.238372</td>\n",
              "      <td>2319.585366</td>\n",
              "      <td>568.628049</td>\n",
              "      <td>1255.512195</td>\n",
              "      <td>83.042683</td>\n",
              "      <td>5530.326613</td>\n",
              "      <td>435.132075</td>\n",
              "      <td>66.261628</td>\n",
              "      <td>3.301887</td>\n",
              "      <td>2.085000</td>\n",
              "      <td>0.34000</td>\n",
              "      <td>577.691860</td>\n",
              "      <td>4734.738372</td>\n",
              "      <td>2448.697674</td>\n",
              "      <td>53794.161290</td>\n",
              "      <td>2.994186</td>\n",
              "    </tr>\n",
              "    <tr>\n",
              "      <th>std</th>\n",
              "      <td>8.289036</td>\n",
              "      <td>3.447759</td>\n",
              "      <td>113.774481</td>\n",
              "      <td>2.755357</td>\n",
              "      <td>5.861427</td>\n",
              "      <td>36.48882</td>\n",
              "      <td>127.606645</td>\n",
              "      <td>1514.220579</td>\n",
              "      <td>94.392434</td>\n",
              "      <td>54.234700</td>\n",
              "      <td>776.156561</td>\n",
              "      <td>119.765076</td>\n",
              "      <td>44.317963</td>\n",
              "      <td>789.689559</td>\n",
              "      <td>223.855243</td>\n",
              "      <td>2459.017549</td>\n",
              "      <td>297.622342</td>\n",
              "      <td>10.564894</td>\n",
              "      <td>2.634808</td>\n",
              "      <td>624.309034</td>\n",
              "      <td>6.404113</td>\n",
              "      <td>55.392367</td>\n",
              "      <td>7.767628</td>\n",
              "      <td>800.576723</td>\n",
              "      <td>4578.013053</td>\n",
              "      <td>294.852020</td>\n",
              "      <td>971.853102</td>\n",
              "      <td>268.836273</td>\n",
              "      <td>368.638776</td>\n",
              "      <td>80.247427</td>\n",
              "      <td>1964.767779</td>\n",
              "      <td>3696.725756</td>\n",
              "      <td>0.959128</td>\n",
              "      <td>43.303821</td>\n",
              "      <td>5.089646</td>\n",
              "      <td>772.093064</td>\n",
              "      <td>643.381991</td>\n",
              "      <td>246.307700</td>\n",
              "      <td>312.871487</td>\n",
              "      <td>36.221243</td>\n",
              "      <td>656.761843</td>\n",
              "      <td>650.520866</td>\n",
              "      <td>248.040620</td>\n",
              "      <td>357.035450</td>\n",
              "      <td>62.951374</td>\n",
              "      <td>1100.752625</td>\n",
              "      <td>65.353516</td>\n",
              "      <td>34.464519</td>\n",
              "      <td>2.192922</td>\n",
              "      <td>1.761616</td>\n",
              "      <td>0.63752</td>\n",
              "      <td>104.973929</td>\n",
              "      <td>3204.054864</td>\n",
              "      <td>789.689559</td>\n",
              "      <td>11039.051992</td>\n",
              "      <td>0.076138</td>\n",
              "    </tr>\n",
              "    <tr>\n",
              "      <th>min</th>\n",
              "      <td>1991.000000</td>\n",
              "      <td>1.000000</td>\n",
              "      <td>272.000000</td>\n",
              "      <td>0.000000</td>\n",
              "      <td>2.000000</td>\n",
              "      <td>10.00000</td>\n",
              "      <td>122.000000</td>\n",
              "      <td>2350.000000</td>\n",
              "      <td>188.000000</td>\n",
              "      <td>111.000000</td>\n",
              "      <td>848.000000</td>\n",
              "      <td>243.000000</td>\n",
              "      <td>49.000000</td>\n",
              "      <td>1097.000000</td>\n",
              "      <td>59.000000</td>\n",
              "      <td>688.000000</td>\n",
              "      <td>281.000000</td>\n",
              "      <td>0.000000</td>\n",
              "      <td>0.000000</td>\n",
              "      <td>0.000000</td>\n",
              "      <td>1.000000</td>\n",
              "      <td>11.000000</td>\n",
              "      <td>0.000000</td>\n",
              "      <td>81.000000</td>\n",
              "      <td>3261.000000</td>\n",
              "      <td>1159.000000</td>\n",
              "      <td>322.000000</td>\n",
              "      <td>23.000000</td>\n",
              "      <td>484.000000</td>\n",
              "      <td>0.000000</td>\n",
              "      <td>2322.000000</td>\n",
              "      <td>4691.000000</td>\n",
              "      <td>0.000000</td>\n",
              "      <td>23.000000</td>\n",
              "      <td>0.000000</td>\n",
              "      <td>717.000000</td>\n",
              "      <td>80.000000</td>\n",
              "      <td>248.000000</td>\n",
              "      <td>262.000000</td>\n",
              "      <td>114.000000</td>\n",
              "      <td>729.000000</td>\n",
              "      <td>1173.000000</td>\n",
              "      <td>225.000000</td>\n",
              "      <td>628.000000</td>\n",
              "      <td>21.000000</td>\n",
              "      <td>1409.000000</td>\n",
              "      <td>236.000000</td>\n",
              "      <td>0.000000</td>\n",
              "      <td>0.000000</td>\n",
              "      <td>0.000000</td>\n",
              "      <td>0.00000</td>\n",
              "      <td>334.000000</td>\n",
              "      <td>1086.000000</td>\n",
              "      <td>1097.000000</td>\n",
              "      <td>30621.000000</td>\n",
              "      <td>2.000000</td>\n",
              "    </tr>\n",
              "    <tr>\n",
              "      <th>25%</th>\n",
              "      <td>1998.000000</td>\n",
              "      <td>3.000000</td>\n",
              "      <td>413.750000</td>\n",
              "      <td>2.000000</td>\n",
              "      <td>11.000000</td>\n",
              "      <td>41.75000</td>\n",
              "      <td>200.000000</td>\n",
              "      <td>4067.000000</td>\n",
              "      <td>282.000000</td>\n",
              "      <td>176.000000</td>\n",
              "      <td>3040.000000</td>\n",
              "      <td>365.750000</td>\n",
              "      <td>103.750000</td>\n",
              "      <td>1889.750000</td>\n",
              "      <td>208.250000</td>\n",
              "      <td>1053.000000</td>\n",
              "      <td>430.750000</td>\n",
              "      <td>2.000000</td>\n",
              "      <td>2.000000</td>\n",
              "      <td>549.750000</td>\n",
              "      <td>6.000000</td>\n",
              "      <td>106.000000</td>\n",
              "      <td>2.250000</td>\n",
              "      <td>811.750000</td>\n",
              "      <td>5107.750000</td>\n",
              "      <td>1430.500000</td>\n",
              "      <td>732.000000</td>\n",
              "      <td>501.000000</td>\n",
              "      <td>1297.000000</td>\n",
              "      <td>3.750000</td>\n",
              "      <td>3978.000000</td>\n",
              "      <td>6700.250000</td>\n",
              "      <td>0.000000</td>\n",
              "      <td>109.750000</td>\n",
              "      <td>4.750000</td>\n",
              "      <td>1654.500000</td>\n",
              "      <td>714.500000</td>\n",
              "      <td>360.500000</td>\n",
              "      <td>426.000000</td>\n",
              "      <td>160.000000</td>\n",
              "      <td>1276.750000</td>\n",
              "      <td>1681.000000</td>\n",
              "      <td>332.500000</td>\n",
              "      <td>950.500000</td>\n",
              "      <td>46.000000</td>\n",
              "      <td>4868.500000</td>\n",
              "      <td>390.000000</td>\n",
              "      <td>42.000000</td>\n",
              "      <td>2.000000</td>\n",
              "      <td>1.000000</td>\n",
              "      <td>0.00000</td>\n",
              "      <td>500.000000</td>\n",
              "      <td>1557.000000</td>\n",
              "      <td>1889.750000</td>\n",
              "      <td>45374.500000</td>\n",
              "      <td>3.000000</td>\n",
              "    </tr>\n",
              "    <tr>\n",
              "      <th>50%</th>\n",
              "      <td>2005.000000</td>\n",
              "      <td>6.000000</td>\n",
              "      <td>507.000000</td>\n",
              "      <td>4.000000</td>\n",
              "      <td>15.000000</td>\n",
              "      <td>70.00000</td>\n",
              "      <td>318.500000</td>\n",
              "      <td>5830.500000</td>\n",
              "      <td>384.000000</td>\n",
              "      <td>203.000000</td>\n",
              "      <td>3372.000000</td>\n",
              "      <td>433.500000</td>\n",
              "      <td>125.000000</td>\n",
              "      <td>2322.000000</td>\n",
              "      <td>285.500000</td>\n",
              "      <td>2788.500000</td>\n",
              "      <td>592.000000</td>\n",
              "      <td>4.500000</td>\n",
              "      <td>3.000000</td>\n",
              "      <td>717.500000</td>\n",
              "      <td>10.000000</td>\n",
              "      <td>149.500000</td>\n",
              "      <td>13.000000</td>\n",
              "      <td>1154.000000</td>\n",
              "      <td>9243.500000</td>\n",
              "      <td>1637.500000</td>\n",
              "      <td>1076.500000</td>\n",
              "      <td>717.500000</td>\n",
              "      <td>1492.500000</td>\n",
              "      <td>158.000000</td>\n",
              "      <td>6559.000000</td>\n",
              "      <td>10448.500000</td>\n",
              "      <td>0.000000</td>\n",
              "      <td>132.500000</td>\n",
              "      <td>7.000000</td>\n",
              "      <td>2170.500000</td>\n",
              "      <td>979.500000</td>\n",
              "      <td>623.000000</td>\n",
              "      <td>815.000000</td>\n",
              "      <td>184.000000</td>\n",
              "      <td>1755.000000</td>\n",
              "      <td>2424.000000</td>\n",
              "      <td>530.000000</td>\n",
              "      <td>1259.000000</td>\n",
              "      <td>58.000000</td>\n",
              "      <td>5455.000000</td>\n",
              "      <td>427.000000</td>\n",
              "      <td>60.500000</td>\n",
              "      <td>3.000000</td>\n",
              "      <td>2.000000</td>\n",
              "      <td>0.00000</td>\n",
              "      <td>590.000000</td>\n",
              "      <td>4190.000000</td>\n",
              "      <td>2322.000000</td>\n",
              "      <td>54926.500000</td>\n",
              "      <td>3.000000</td>\n",
              "    </tr>\n",
              "    <tr>\n",
              "      <th>75%</th>\n",
              "      <td>2012.000000</td>\n",
              "      <td>9.000000</td>\n",
              "      <td>577.250000</td>\n",
              "      <td>6.000000</td>\n",
              "      <td>19.000000</td>\n",
              "      <td>96.25000</td>\n",
              "      <td>398.250000</td>\n",
              "      <td>6582.500000</td>\n",
              "      <td>441.250000</td>\n",
              "      <td>236.250000</td>\n",
              "      <td>3733.500000</td>\n",
              "      <td>536.250000</td>\n",
              "      <td>151.250000</td>\n",
              "      <td>2778.000000</td>\n",
              "      <td>401.250000</td>\n",
              "      <td>5385.250000</td>\n",
              "      <td>784.000000</td>\n",
              "      <td>14.000000</td>\n",
              "      <td>5.000000</td>\n",
              "      <td>1306.750000</td>\n",
              "      <td>15.000000</td>\n",
              "      <td>180.500000</td>\n",
              "      <td>17.000000</td>\n",
              "      <td>1635.000000</td>\n",
              "      <td>11590.500000</td>\n",
              "      <td>1833.250000</td>\n",
              "      <td>2334.250000</td>\n",
              "      <td>860.000000</td>\n",
              "      <td>1731.250000</td>\n",
              "      <td>181.500000</td>\n",
              "      <td>7601.500000</td>\n",
              "      <td>13877.500000</td>\n",
              "      <td>1.000000</td>\n",
              "      <td>152.250000</td>\n",
              "      <td>11.000000</td>\n",
              "      <td>2880.500000</td>\n",
              "      <td>1546.000000</td>\n",
              "      <td>763.500000</td>\n",
              "      <td>1045.250000</td>\n",
              "      <td>208.000000</td>\n",
              "      <td>2202.000000</td>\n",
              "      <td>2905.500000</td>\n",
              "      <td>793.500000</td>\n",
              "      <td>1515.250000</td>\n",
              "      <td>93.000000</td>\n",
              "      <td>6261.750000</td>\n",
              "      <td>481.500000</td>\n",
              "      <td>87.000000</td>\n",
              "      <td>4.000000</td>\n",
              "      <td>3.000000</td>\n",
              "      <td>1.00000</td>\n",
              "      <td>649.000000</td>\n",
              "      <td>6872.750000</td>\n",
              "      <td>2778.000000</td>\n",
              "      <td>63292.500000</td>\n",
              "      <td>3.000000</td>\n",
              "    </tr>\n",
              "    <tr>\n",
              "      <th>max</th>\n",
              "      <td>2019.000000</td>\n",
              "      <td>12.000000</td>\n",
              "      <td>831.000000</td>\n",
              "      <td>21.000000</td>\n",
              "      <td>36.000000</td>\n",
              "      <td>194.00000</td>\n",
              "      <td>645.000000</td>\n",
              "      <td>9050.000000</td>\n",
              "      <td>561.000000</td>\n",
              "      <td>449.000000</td>\n",
              "      <td>6653.000000</td>\n",
              "      <td>914.000000</td>\n",
              "      <td>300.000000</td>\n",
              "      <td>5358.000000</td>\n",
              "      <td>1329.000000</td>\n",
              "      <td>9669.000000</td>\n",
              "      <td>1628.000000</td>\n",
              "      <td>54.000000</td>\n",
              "      <td>12.000000</td>\n",
              "      <td>2626.000000</td>\n",
              "      <td>37.000000</td>\n",
              "      <td>283.000000</td>\n",
              "      <td>26.000000</td>\n",
              "      <td>3661.000000</td>\n",
              "      <td>23203.000000</td>\n",
              "      <td>2630.000000</td>\n",
              "      <td>5368.000000</td>\n",
              "      <td>1036.000000</td>\n",
              "      <td>2215.000000</td>\n",
              "      <td>243.000000</td>\n",
              "      <td>9880.000000</td>\n",
              "      <td>18003.000000</td>\n",
              "      <td>5.000000</td>\n",
              "      <td>271.000000</td>\n",
              "      <td>31.000000</td>\n",
              "      <td>3627.000000</td>\n",
              "      <td>2543.000000</td>\n",
              "      <td>1160.000000</td>\n",
              "      <td>1282.000000</td>\n",
              "      <td>289.000000</td>\n",
              "      <td>3695.000000</td>\n",
              "      <td>3425.000000</td>\n",
              "      <td>1114.000000</td>\n",
              "      <td>2314.000000</td>\n",
              "      <td>350.000000</td>\n",
              "      <td>9034.000000</td>\n",
              "      <td>628.000000</td>\n",
              "      <td>217.000000</td>\n",
              "      <td>13.000000</td>\n",
              "      <td>10.000000</td>\n",
              "      <td>3.00000</td>\n",
              "      <td>848.000000</td>\n",
              "      <td>13833.000000</td>\n",
              "      <td>5358.000000</td>\n",
              "      <td>75403.000000</td>\n",
              "      <td>3.000000</td>\n",
              "    </tr>\n",
              "  </tbody>\n",
              "</table>\n",
              "</div>"
            ],
            "text/plain": [
              "              vano         mes  ...  registro_ocorrencias        fase\n",
              "count   344.000000  344.000000  ...            248.000000  344.000000\n",
              "mean   2004.837209    6.453488  ...          53794.161290    2.994186\n",
              "std       8.289036    3.447759  ...          11039.051992    0.076138\n",
              "min    1991.000000    1.000000  ...          30621.000000    2.000000\n",
              "25%    1998.000000    3.000000  ...          45374.500000    3.000000\n",
              "50%    2005.000000    6.000000  ...          54926.500000    3.000000\n",
              "75%    2012.000000    9.000000  ...          63292.500000    3.000000\n",
              "max    2019.000000   12.000000  ...          75403.000000    3.000000\n",
              "\n",
              "[8 rows x 56 columns]"
            ]
          },
          "metadata": {
            "tags": []
          },
          "execution_count": 12
        }
      ]
    },
    {
      "cell_type": "markdown",
      "metadata": {
        "id": "VcXt5vS61UUH",
        "colab_type": "text"
      },
      "source": [
        "## Crimes Contra o Patrimônio - Veículos\n",
        "Vamos analisar os dados relacionados aos crimes de roubo e furto de veículos.\n",
        "\n",
        "Problema comum nas grandes metrópoles brasileiras, esse tipo de crime merece destaque em nosso projeto. Como temos dados sobre roubo, furto e recuperação de veículos, conseguimos utilizar essas informações para encontrar resultados pertinentes em relação à situação e ao combate a esse tipo de crime."
      ]
    },
    {
      "cell_type": "markdown",
      "metadata": {
        "id": "7CzRFwfq19Jx",
        "colab_type": "text"
      },
      "source": [
        "Vamos começar analisando a **média de roubo de veículos**."
      ]
    },
    {
      "cell_type": "code",
      "metadata": {
        "id": "EyB2dsfY12RZ",
        "colab_type": "code",
        "colab": {
          "base_uri": "https://localhost:8080/",
          "height": 34
        },
        "outputId": "2700a4d2-916a-4f7c-d192-b9b3a77e5335"
      },
      "source": [
        "print('A média de roubo de veículos entre 1991 e 2019 é de', round(df_rio.roubo_veiculo.mean(),2))"
      ],
      "execution_count": 31,
      "outputs": [
        {
          "output_type": "stream",
          "text": [
            "A média de roubo de veículos entre 1991 e 2019 é de 2448.7\n"
          ],
          "name": "stdout"
        }
      ]
    },
    {
      "cell_type": "markdown",
      "metadata": {
        "id": "rLLDZr_g3K8K",
        "colab_type": "text"
      },
      "source": [
        "Agora a **média de furtos de veículos**."
      ]
    },
    {
      "cell_type": "code",
      "metadata": {
        "id": "LV_lz4Hj3KDB",
        "colab_type": "code",
        "colab": {
          "base_uri": "https://localhost:8080/",
          "height": 34
        },
        "outputId": "5f2e9f6c-0b16-4549-ae29-ceae445039c1"
      },
      "source": [
        "print('A média de furtos de veículos entre 1991 e 2019 é de', round(df_rio.furto_veiculos.mean(),2))"
      ],
      "execution_count": 32,
      "outputs": [
        {
          "output_type": "stream",
          "text": [
            "A média de furtos de veículos entre 1991 e 2019 é de 1674.67\n"
          ],
          "name": "stdout"
        }
      ]
    },
    {
      "cell_type": "markdown",
      "metadata": {
        "id": "yddrFB-H3rSq",
        "colab_type": "text"
      },
      "source": [
        "Vejamos a **média recuperação de veículos**."
      ]
    },
    {
      "cell_type": "code",
      "metadata": {
        "id": "KRqnLxdF37bH",
        "colab_type": "code",
        "colab": {
          "base_uri": "https://localhost:8080/",
          "height": 34
        },
        "outputId": "a3a2c487-cc65-49b3-e483-c7a9c5ca181f"
      },
      "source": [
        "print('A média de veículos recuperados entre 1991 e 2019 é de', round(df_rio.recuperacao_veiculos.mean(),2))"
      ],
      "execution_count": 33,
      "outputs": [
        {
          "output_type": "stream",
          "text": [
            "A média de veículos recuperados entre 1991 e 2019 é de 1772.24\n"
          ],
          "name": "stdout"
        }
      ]
    },
    {
      "cell_type": "markdown",
      "metadata": {
        "id": "SR8hRWj64lk1",
        "colab_type": "text"
      },
      "source": [
        "Vamos agora calcular o **percentual de veículos recuperados** em relação aos **carros roubados + carros furtados**."
      ]
    },
    {
      "cell_type": "code",
      "metadata": {
        "id": "nvu1lRuW51YU",
        "colab_type": "code",
        "colab": {
          "base_uri": "https://localhost:8080/",
          "height": 70
        },
        "outputId": "ba623c9b-1844-4db4-cf29-dd6f0e15f6f4"
      },
      "source": [
        "media_roubo = df_rio.roubo_veiculo.mean()\n",
        "media_furto = df_rio.furto_veiculos.mean()\n",
        "media_recuperados = df_rio.recuperacao_veiculos.mean()\n",
        "\n",
        "total_veiculos_roubados = media_roubo + media_furto\n",
        "\n",
        "percentual = (media_recuperados/total_veiculos_roubados)*100\n",
        "\n",
        "print('Média de veículos roubados por mês: {:.2f}'.format(total_veiculos_roubados))\n",
        "print('Veículos recuperados por mês: {:.2f}'.format(media_recuperados))\n",
        "print('Percentual de veículos recuperados {:.2f}%'.format(percentual))"
      ],
      "execution_count": 41,
      "outputs": [
        {
          "output_type": "stream",
          "text": [
            "Média de veículos roubados por mês: 4123.37\n",
            "Veículos recuperados por mês: 1772.24\n",
            "Percentual de veículos recuperados 42.98%\n"
          ],
          "name": "stdout"
        }
      ]
    },
    {
      "cell_type": "markdown",
      "metadata": {
        "id": "Ej9-Em6fAb_d",
        "colab_type": "text"
      },
      "source": [
        "## Análise dos Homicídios Dolosos\n",
        "\n",
        "Nesta etapa iremos analisar os homicídios.\n",
        "\n",
        "> Iniciando pelos valores mínimos e máximos de homicídios ao longo do periodo observado no nosso dataset."
      ]
    },
    {
      "cell_type": "code",
      "metadata": {
        "id": "z6gB30XsAsNT",
        "colab_type": "code",
        "colab": {
          "base_uri": "https://localhost:8080/",
          "height": 52
        },
        "outputId": "df7dd05d-40d3-40f5-dc6d-3ecfe2d468e5"
      },
      "source": [
        "print('Mínimo:\\t{}'.format(df_rio.hom_doloso.min()))\n",
        "print('Máximo:\\t{}'.format(df_rio.hom_doloso.max()))"
      ],
      "execution_count": 48,
      "outputs": [
        {
          "output_type": "stream",
          "text": [
            "Mínimo:\t272\n",
            "Máximo:\t831\n"
          ],
          "name": "stdout"
        }
      ]
    },
    {
      "cell_type": "markdown",
      "metadata": {
        "id": "mAmvtsNG2Yjy",
        "colab_type": "text"
      },
      "source": [
        "Vamos verificar qual o ano e o mês que tivemos essas entradas"
      ]
    },
    {
      "cell_type": "markdown",
      "metadata": {
        "id": "8T4kONkK63w2",
        "colab_type": "text"
      },
      "source": [
        "> Registro que teve o **menor índice de homicídios**."
      ]
    },
    {
      "cell_type": "code",
      "metadata": {
        "id": "duHvdgXP2Toj",
        "colab_type": "code",
        "colab": {
          "base_uri": "https://localhost:8080/",
          "height": 77
        },
        "outputId": "35b38cf6-2732-47ad-ce51-b9e2a0c5df1b"
      },
      "source": [
        "df_homicidios = df_rio[['vano','mes','hom_doloso']]\n",
        "df_homicidios[df_homicidios.hom_doloso == 272]"
      ],
      "execution_count": 197,
      "outputs": [
        {
          "output_type": "execute_result",
          "data": {
            "text/html": [
              "<div>\n",
              "<style scoped>\n",
              "    .dataframe tbody tr th:only-of-type {\n",
              "        vertical-align: middle;\n",
              "    }\n",
              "\n",
              "    .dataframe tbody tr th {\n",
              "        vertical-align: top;\n",
              "    }\n",
              "\n",
              "    .dataframe thead th {\n",
              "        text-align: right;\n",
              "    }\n",
              "</style>\n",
              "<table border=\"1\" class=\"dataframe\">\n",
              "  <thead>\n",
              "    <tr style=\"text-align: right;\">\n",
              "      <th></th>\n",
              "      <th>vano</th>\n",
              "      <th>mes</th>\n",
              "      <th>hom_doloso</th>\n",
              "    </tr>\n",
              "  </thead>\n",
              "  <tbody>\n",
              "    <tr>\n",
              "      <th>293</th>\n",
              "      <td>2015</td>\n",
              "      <td>6</td>\n",
              "      <td>272</td>\n",
              "    </tr>\n",
              "  </tbody>\n",
              "</table>\n",
              "</div>"
            ],
            "text/plain": [
              "     vano  mes  hom_doloso\n",
              "293  2015    6         272"
            ]
          },
          "metadata": {
            "tags": []
          },
          "execution_count": 197
        }
      ]
    },
    {
      "cell_type": "markdown",
      "metadata": {
        "id": "q2Nq7M9C7Hfc",
        "colab_type": "text"
      },
      "source": [
        "> Registro que teve o **maior índice de homicídios**."
      ]
    },
    {
      "cell_type": "code",
      "metadata": {
        "id": "_VlTPDcN5B5Q",
        "colab_type": "code",
        "colab": {
          "base_uri": "https://localhost:8080/",
          "height": 77
        },
        "outputId": "a749b348-f1f8-4137-9c46-4a572a5138ac"
      },
      "source": [
        "df_homicidios[df_homicidios.hom_doloso ==831]"
      ],
      "execution_count": 199,
      "outputs": [
        {
          "output_type": "execute_result",
          "data": {
            "text/html": [
              "<div>\n",
              "<style scoped>\n",
              "    .dataframe tbody tr th:only-of-type {\n",
              "        vertical-align: middle;\n",
              "    }\n",
              "\n",
              "    .dataframe tbody tr th {\n",
              "        vertical-align: top;\n",
              "    }\n",
              "\n",
              "    .dataframe thead th {\n",
              "        text-align: right;\n",
              "    }\n",
              "</style>\n",
              "<table border=\"1\" class=\"dataframe\">\n",
              "  <thead>\n",
              "    <tr style=\"text-align: right;\">\n",
              "      <th></th>\n",
              "      <th>vano</th>\n",
              "      <th>mes</th>\n",
              "      <th>hom_doloso</th>\n",
              "    </tr>\n",
              "  </thead>\n",
              "  <tbody>\n",
              "    <tr>\n",
              "      <th>48</th>\n",
              "      <td>1995</td>\n",
              "      <td>1</td>\n",
              "      <td>831</td>\n",
              "    </tr>\n",
              "  </tbody>\n",
              "</table>\n",
              "</div>"
            ],
            "text/plain": [
              "    vano  mes  hom_doloso\n",
              "48  1995    1         831"
            ]
          },
          "metadata": {
            "tags": []
          },
          "execution_count": 199
        }
      ]
    },
    {
      "cell_type": "markdown",
      "metadata": {
        "id": "yD98VN0f7ULt",
        "colab_type": "text"
      },
      "source": [
        "> Vejamos **a média de homicídios**."
      ]
    },
    {
      "cell_type": "code",
      "metadata": {
        "id": "t5Yl82HI4LPx",
        "colab_type": "code",
        "colab": {
          "base_uri": "https://localhost:8080/",
          "height": 34
        },
        "outputId": "fe44d052-45e5-49df-efcf-5070bca74607"
      },
      "source": [
        "print('A média de homicídios entre 1991 e 2019 é de',round(df_homicidios.hom_doloso.mean(),2))"
      ],
      "execution_count": 205,
      "outputs": [
        {
          "output_type": "stream",
          "text": [
            "A média de homicídios entre 1991 e 2019 é de 504.56\n"
          ],
          "name": "stdout"
        }
      ]
    },
    {
      "cell_type": "markdown",
      "metadata": {
        "id": "9x203GNvApV3",
        "colab_type": "text"
      },
      "source": [
        "> Vamos contruir um Ranking com a média de homicídios dolosos no período entre 1991 e 2019"
      ]
    },
    {
      "cell_type": "code",
      "metadata": {
        "id": "rU8fJ7LlKWMS",
        "colab_type": "code",
        "colab": {
          "base_uri": "https://localhost:8080/",
          "height": 917
        },
        "outputId": "6eaad1d9-3a76-4964-bae3-22fd65f30a0b"
      },
      "source": [
        "df_homicidios.groupby(df_homicidios.vano, as_index=False).hom_doloso.mean().sort_values(by= 'hom_doloso',ascending=False)"
      ],
      "execution_count": 266,
      "outputs": [
        {
          "output_type": "execute_result",
          "data": {
            "text/html": [
              "<div>\n",
              "<style scoped>\n",
              "    .dataframe tbody tr th:only-of-type {\n",
              "        vertical-align: middle;\n",
              "    }\n",
              "\n",
              "    .dataframe tbody tr th {\n",
              "        vertical-align: top;\n",
              "    }\n",
              "\n",
              "    .dataframe thead th {\n",
              "        text-align: right;\n",
              "    }\n",
              "</style>\n",
              "<table border=\"1\" class=\"dataframe\">\n",
              "  <thead>\n",
              "    <tr style=\"text-align: right;\">\n",
              "      <th></th>\n",
              "      <th>vano</th>\n",
              "      <th>hom_doloso</th>\n",
              "    </tr>\n",
              "  </thead>\n",
              "  <tbody>\n",
              "    <tr>\n",
              "      <th>4</th>\n",
              "      <td>1995</td>\n",
              "      <td>703.166667</td>\n",
              "    </tr>\n",
              "    <tr>\n",
              "      <th>3</th>\n",
              "      <td>1994</td>\n",
              "      <td>700.666667</td>\n",
              "    </tr>\n",
              "    <tr>\n",
              "      <th>2</th>\n",
              "      <td>1993</td>\n",
              "      <td>643.333333</td>\n",
              "    </tr>\n",
              "    <tr>\n",
              "      <th>1</th>\n",
              "      <td>1992</td>\n",
              "      <td>636.250000</td>\n",
              "    </tr>\n",
              "    <tr>\n",
              "      <th>0</th>\n",
              "      <td>1991</td>\n",
              "      <td>626.500000</td>\n",
              "    </tr>\n",
              "    <tr>\n",
              "      <th>5</th>\n",
              "      <td>1996</td>\n",
              "      <td>604.916667</td>\n",
              "    </tr>\n",
              "    <tr>\n",
              "      <th>6</th>\n",
              "      <td>1997</td>\n",
              "      <td>576.916667</td>\n",
              "    </tr>\n",
              "    <tr>\n",
              "      <th>11</th>\n",
              "      <td>2002</td>\n",
              "      <td>573.750000</td>\n",
              "    </tr>\n",
              "    <tr>\n",
              "      <th>12</th>\n",
              "      <td>2003</td>\n",
              "      <td>552.000000</td>\n",
              "    </tr>\n",
              "    <tr>\n",
              "      <th>14</th>\n",
              "      <td>2005</td>\n",
              "      <td>551.666667</td>\n",
              "    </tr>\n",
              "    <tr>\n",
              "      <th>13</th>\n",
              "      <td>2004</td>\n",
              "      <td>536.500000</td>\n",
              "    </tr>\n",
              "    <tr>\n",
              "      <th>15</th>\n",
              "      <td>2006</td>\n",
              "      <td>526.916667</td>\n",
              "    </tr>\n",
              "    <tr>\n",
              "      <th>9</th>\n",
              "      <td>2000</td>\n",
              "      <td>523.916667</td>\n",
              "    </tr>\n",
              "    <tr>\n",
              "      <th>10</th>\n",
              "      <td>2001</td>\n",
              "      <td>513.583333</td>\n",
              "    </tr>\n",
              "    <tr>\n",
              "      <th>16</th>\n",
              "      <td>2007</td>\n",
              "      <td>511.083333</td>\n",
              "    </tr>\n",
              "    <tr>\n",
              "      <th>8</th>\n",
              "      <td>1999</td>\n",
              "      <td>490.666667</td>\n",
              "    </tr>\n",
              "    <tr>\n",
              "      <th>18</th>\n",
              "      <td>2009</td>\n",
              "      <td>482.750000</td>\n",
              "    </tr>\n",
              "    <tr>\n",
              "      <th>7</th>\n",
              "      <td>1998</td>\n",
              "      <td>477.166667</td>\n",
              "    </tr>\n",
              "    <tr>\n",
              "      <th>17</th>\n",
              "      <td>2008</td>\n",
              "      <td>476.416667</td>\n",
              "    </tr>\n",
              "    <tr>\n",
              "      <th>26</th>\n",
              "      <td>2017</td>\n",
              "      <td>445.500000</td>\n",
              "    </tr>\n",
              "    <tr>\n",
              "      <th>25</th>\n",
              "      <td>2016</td>\n",
              "      <td>420.166667</td>\n",
              "    </tr>\n",
              "    <tr>\n",
              "      <th>27</th>\n",
              "      <td>2018</td>\n",
              "      <td>412.500000</td>\n",
              "    </tr>\n",
              "    <tr>\n",
              "      <th>23</th>\n",
              "      <td>2014</td>\n",
              "      <td>411.833333</td>\n",
              "    </tr>\n",
              "    <tr>\n",
              "      <th>19</th>\n",
              "      <td>2010</td>\n",
              "      <td>397.250000</td>\n",
              "    </tr>\n",
              "    <tr>\n",
              "      <th>22</th>\n",
              "      <td>2013</td>\n",
              "      <td>395.416667</td>\n",
              "    </tr>\n",
              "    <tr>\n",
              "      <th>20</th>\n",
              "      <td>2011</td>\n",
              "      <td>356.583333</td>\n",
              "    </tr>\n",
              "    <tr>\n",
              "      <th>24</th>\n",
              "      <td>2015</td>\n",
              "      <td>350.000000</td>\n",
              "    </tr>\n",
              "    <tr>\n",
              "      <th>21</th>\n",
              "      <td>2012</td>\n",
              "      <td>340.083333</td>\n",
              "    </tr>\n",
              "    <tr>\n",
              "      <th>28</th>\n",
              "      <td>2019</td>\n",
              "      <td>339.625000</td>\n",
              "    </tr>\n",
              "  </tbody>\n",
              "</table>\n",
              "</div>"
            ],
            "text/plain": [
              "    vano  hom_doloso\n",
              "4   1995  703.166667\n",
              "3   1994  700.666667\n",
              "2   1993  643.333333\n",
              "1   1992  636.250000\n",
              "0   1991  626.500000\n",
              "5   1996  604.916667\n",
              "6   1997  576.916667\n",
              "11  2002  573.750000\n",
              "12  2003  552.000000\n",
              "14  2005  551.666667\n",
              "13  2004  536.500000\n",
              "15  2006  526.916667\n",
              "9   2000  523.916667\n",
              "10  2001  513.583333\n",
              "16  2007  511.083333\n",
              "8   1999  490.666667\n",
              "18  2009  482.750000\n",
              "7   1998  477.166667\n",
              "17  2008  476.416667\n",
              "26  2017  445.500000\n",
              "25  2016  420.166667\n",
              "27  2018  412.500000\n",
              "23  2014  411.833333\n",
              "19  2010  397.250000\n",
              "22  2013  395.416667\n",
              "20  2011  356.583333\n",
              "24  2015  350.000000\n",
              "21  2012  340.083333\n",
              "28  2019  339.625000"
            ]
          },
          "metadata": {
            "tags": []
          },
          "execution_count": 266
        }
      ]
    },
    {
      "cell_type": "markdown",
      "metadata": {
        "id": "HD08viQ-Anrq",
        "colab_type": "text"
      },
      "source": [
        "> Podemos observar que o ano de **1995** foi o ano mais violento no período analisado.\n",
        "\n",
        "> Essa informação está de acordo com o [link](http://g1.globo.com/rio-de-janeiro/noticia/2011/12/rj-cai-de-2-para-17-colocado-em-homicidios-no-pais-diz-pesquisa.html#:~:text=O%20per%C3%ADodo%20mais%20cr%C3%ADtico%20da,vai%20de%201983%20a%201995.) de uma matéria feita pelo G1 no final do ano de 2011.\n"
      ]
    },
    {
      "cell_type": "markdown",
      "metadata": {
        "id": "7WK0NBQZASKC",
        "colab_type": "text"
      },
      "source": [
        "## Visualização de Dados\n",
        "\n",
        "Nesta etapa do projeto iremos exibir alguns gráficos para auxiliar a nossa compreensão acerca dos dados de violência no Rio de Janeiro.\n"
      ]
    },
    {
      "cell_type": "code",
      "metadata": {
        "id": "zL22e2noELzx",
        "colab_type": "code",
        "colab": {
          "base_uri": "https://localhost:8080/",
          "height": 264
        },
        "outputId": "74b5f979-6024-4c2d-99f2-5cccf68a2e85"
      },
      "source": [
        "df_rio.hom_doloso.hist();"
      ],
      "execution_count": 238,
      "outputs": [
        {
          "output_type": "display_data",
          "data": {
            "image/png": "[encoded data removed]",
            "text/plain": [
              "<Figure size 432x288 with 1 Axes>"
            ]
          },
          "metadata": {
            "tags": [],
            "needs_background": "light"
          }
        }
      ]
    },
    {
      "cell_type": "markdown",
      "metadata": {
        "id": "qbkFIXPLM1GF",
        "colab_type": "text"
      },
      "source": [
        "> Houveram no total quase 70 meses com um valor entre 500-550 homicídios dolosos registrados ao longo do período analisado.\n"
      ]
    },
    {
      "cell_type": "markdown",
      "metadata": {
        "id": "FwgGN1YRLsyT",
        "colab_type": "text"
      },
      "source": [
        "> Vamos indexar o nosso DataFrame pela coluna `vano`, para verificar a distribuição dos roubos em coletivos ao longo dos anos."
      ]
    },
    {
      "cell_type": "code",
      "metadata": {
        "id": "Udj3_nLFFFcj",
        "colab_type": "code",
        "colab": {}
      },
      "source": [
        "df_roubo_coletivo_index = df_rio.copy()\n",
        "df_roubo_coletivo_index.index = df_roubo_coletivo_index.vano"
      ],
      "execution_count": 0,
      "outputs": []
    },
    {
      "cell_type": "code",
      "metadata": {
        "id": "NzgrmFQhJMEm",
        "colab_type": "code",
        "colab": {
          "base_uri": "https://localhost:8080/",
          "height": 278
        },
        "outputId": "ab470a9a-44b7-4298-f5c5-471b58ca1861"
      },
      "source": [
        "df_roubo_coletivo_index.roubo_em_coletivo.plot();\n"
      ],
      "execution_count": 277,
      "outputs": [
        {
          "output_type": "display_data",
          "data": {
            "image/png": "[encoded data removed]",
            "text/plain": [
              "<Figure size 432x288 with 1 Axes>"
            ]
          },
          "metadata": {
            "tags": [],
            "needs_background": "light"
          }
        }
      ]
    },
    {
      "cell_type": "markdown",
      "metadata": {
        "id": "phfDZsdc3qEk",
        "colab_type": "text"
      },
      "source": [
        "> Podemos observar que o roubo a coletivo tem aumentado ao longo dos anos."
      ]
    },
    {
      "cell_type": "code",
      "metadata": {
        "id": "o6Us2K7MQcgS",
        "colab_type": "code",
        "colab": {
          "base_uri": "https://localhost:8080/",
          "height": 278
        },
        "outputId": "765fceef-889e-4ef7-aae9-42b3415698d6"
      },
      "source": [
        "df_roubo_coletivo_index.estupro.plot();"
      ],
      "execution_count": 278,
      "outputs": [
        {
          "output_type": "display_data",
          "data": {
            "image/png": "[encoded data removed]",
            "text/plain": [
              "<Figure size 432x288 with 1 Axes>"
            ]
          },
          "metadata": {
            "tags": [],
            "needs_background": "light"
          }
        }
      ]
    },
    {
      "cell_type": "markdown",
      "metadata": {
        "id": "KfL6wvAETfwV",
        "colab_type": "text"
      },
      "source": [
        "> O índice de estupro teve uma queda após o período de 2012 onde tivemos o seu pico."
      ]
    },
    {
      "cell_type": "code",
      "metadata": {
        "id": "oTGQNnbvRdZo",
        "colab_type": "code",
        "colab": {}
      },
      "source": [
        "df_roubo_coletivo_index['total_celulares_roubados'] = df_roubo_coletivo_index.roubo_celular + df_roubo_coletivo_index.furto_celular"
      ],
      "execution_count": 0,
      "outputs": []
    },
    {
      "cell_type": "code",
      "metadata": {
        "id": "J4n0v8lNSY5x",
        "colab_type": "code",
        "colab": {
          "base_uri": "https://localhost:8080/",
          "height": 278
        },
        "outputId": "49d7ec62-5c68-42ed-cb69-2f6348b364d1"
      },
      "source": [
        "df_roubo_coletivo_index.total_celulares_roubados.plot();"
      ],
      "execution_count": 283,
      "outputs": [
        {
          "output_type": "display_data",
          "data": {
            "image/png": "[encoded data removed]",
            "text/plain": [
              "<Figure size 432x288 with 1 Axes>"
            ]
          },
          "metadata": {
            "tags": [],
            "needs_background": "light"
          }
        }
      ]
    },
    {
      "cell_type": "markdown",
      "metadata": {
        "id": "eApjN-8LQ2x4",
        "colab_type": "text"
      },
      "source": [
        "> Podemos observar que o índice de roubo a celulares tem aumentado com passar dos anos."
      ]
    },
    {
      "cell_type": "markdown",
      "metadata": {
        "id": "LCsiXvM3BcsO",
        "colab_type": "text"
      },
      "source": [
        "## Conclusão\n",
        "\n",
        "> Com base nos dados analisados podemos perceber que houve um período onde tivemos um pico no número de homicídios dolosos, que foi no ano de 1995. Apesar dos índices de homicídio apresentarem uma redução ao longo do período estudado, podemos observar por exemplo o aumento nos índice de roubos a coletivos e a celulares ao longo dos anos.\n",
        "\n",
        "\n"
      ]
    }
  ]
}